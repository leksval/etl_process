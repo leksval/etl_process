{
 "cells": [
  {
   "cell_type": "code",
   "execution_count": 4,
   "metadata": {},
   "outputs": [],
   "source": [
    "import tensorflow as tf\n",
    "from tensorflow import keras\n",
    "import numpy as np\n",
    "import pandas as pd"
   ]
  },
  {
   "cell_type": "code",
   "execution_count": 21,
   "metadata": {},
   "outputs": [],
   "source": [
    "data = keras.datasets.imdb"
   ]
  },
  {
   "cell_type": "code",
   "execution_count": 22,
   "metadata": {},
   "outputs": [
    {
     "name": "stdout",
     "output_type": "stream",
     "text": [
      "Downloading data from https://storage.googleapis.com/tensorflow/tf-keras-datasets/imdb.npz\n",
      "17465344/17464789 [==============================] - 2s 0us/step\n"
     ]
    }
   ],
   "source": [
    "(train_data, train_labels), (test_data, test_labels) = data.load_data(num_words=10000)\n",
    "# only words that appera over 10000 times"
   ]
  },
  {
   "cell_type": "code",
   "execution_count": null,
   "metadata": {
    "scrolled": true
   },
   "outputs": [],
   "source": []
  },
  {
   "cell_type": "code",
   "execution_count": 23,
   "metadata": {},
   "outputs": [
    {
     "name": "stdout",
     "output_type": "stream",
     "text": [
      "Downloading data from https://storage.googleapis.com/tensorflow/tf-keras-datasets/imdb_word_index.json\n",
      "1646592/1641221 [==============================] - 0s 0us/step\n"
     ]
    }
   ],
   "source": [
    "word_index = data.get_word_index()"
   ]
  },
  {
   "cell_type": "code",
   "execution_count": 24,
   "metadata": {},
   "outputs": [],
   "source": [
    "word_index = {k:(v+3) for k,v in word_index.items()}"
   ]
  },
  {
   "cell_type": "code",
   "execution_count": 25,
   "metadata": {},
   "outputs": [],
   "source": [
    "word_index[\"<PAD>\"] = 0\n",
    "word_index[\"<START>\"] = 1\n",
    "word_index[\"<UNK>\"] = 2\n",
    "word_index[\"<INUSED>\"] = 3"
   ]
  },
  {
   "cell_type": "code",
   "execution_count": 26,
   "metadata": {},
   "outputs": [],
   "source": [
    "reverse_word_index = dict([(value, key) for (key,value) in word_index.items()])"
   ]
  },
  {
   "cell_type": "code",
   "execution_count": 9,
   "metadata": {},
   "outputs": [],
   "source": [
    "train_data = keras.preprocessing.sequence.pad_sequences(train_data, value = word_index[\"<PAD>\"], padding=\"post\", maxlen = 250)\n",
    "test_data  = keras.preprocessing.sequence.pad_sequences(test_data, value = word_index[\"<PAD>\"], padding=\"post\", maxlen = 250)\n",
    "# data must have the same len"
   ]
  },
  {
   "cell_type": "code",
   "execution_count": 10,
   "metadata": {},
   "outputs": [
    {
     "name": "stdout",
     "output_type": "stream",
     "text": [
      "250 250\n"
     ]
    }
   ],
   "source": [
    "print(len(test_data[0]),len(test_data[3]))"
   ]
  },
  {
   "cell_type": "code",
   "execution_count": 11,
   "metadata": {},
   "outputs": [],
   "source": [
    "def decode_review(text):\n",
    "    return \" \".join([reverse_word_index.get(i, \"?\") for i in text])"
   ]
  },
  {
   "cell_type": "code",
   "execution_count": 12,
   "metadata": {},
   "outputs": [
    {
     "name": "stdout",
     "output_type": "stream",
     "text": [
      "<START> please give this one a miss br br <UNK> <UNK> and the rest of the cast rendered terrible performances the show is flat flat flat br br i don't know how michael madison could have allowed this one on his plate he almost seemed to know this wasn't going to work out and his performance was quite <UNK> so all you madison fans give this a miss <PAD> <PAD> <PAD> <PAD> <PAD> <PAD> <PAD> <PAD> <PAD> <PAD> <PAD> <PAD> <PAD> <PAD> <PAD> <PAD> <PAD> <PAD> <PAD> <PAD> <PAD> <PAD> <PAD> <PAD> <PAD> <PAD> <PAD> <PAD> <PAD> <PAD> <PAD> <PAD> <PAD> <PAD> <PAD> <PAD> <PAD> <PAD> <PAD> <PAD> <PAD> <PAD> <PAD> <PAD> <PAD> <PAD> <PAD> <PAD> <PAD> <PAD> <PAD> <PAD> <PAD> <PAD> <PAD> <PAD> <PAD> <PAD> <PAD> <PAD> <PAD> <PAD> <PAD> <PAD> <PAD> <PAD> <PAD> <PAD> <PAD> <PAD> <PAD> <PAD> <PAD> <PAD> <PAD> <PAD> <PAD> <PAD> <PAD> <PAD> <PAD> <PAD> <PAD> <PAD> <PAD> <PAD> <PAD> <PAD> <PAD> <PAD> <PAD> <PAD> <PAD> <PAD> <PAD> <PAD> <PAD> <PAD> <PAD> <PAD> <PAD> <PAD> <PAD> <PAD> <PAD> <PAD> <PAD> <PAD> <PAD> <PAD> <PAD> <PAD> <PAD> <PAD> <PAD> <PAD> <PAD> <PAD> <PAD> <PAD> <PAD> <PAD> <PAD> <PAD> <PAD> <PAD> <PAD> <PAD> <PAD> <PAD> <PAD> <PAD> <PAD> <PAD> <PAD> <PAD> <PAD> <PAD> <PAD> <PAD> <PAD> <PAD> <PAD> <PAD> <PAD> <PAD> <PAD> <PAD> <PAD> <PAD> <PAD> <PAD> <PAD> <PAD> <PAD> <PAD> <PAD> <PAD> <PAD> <PAD> <PAD> <PAD> <PAD> <PAD> <PAD> <PAD> <PAD> <PAD> <PAD> <PAD> <PAD> <PAD> <PAD> <PAD> <PAD> <PAD> <PAD> <PAD> <PAD> <PAD> <PAD> <PAD>\n"
     ]
    }
   ],
   "source": [
    "print(decode_review(test_data[0]))"
   ]
  },
  {
   "cell_type": "code",
   "execution_count": 13,
   "metadata": {},
   "outputs": [
    {
     "name": "stdout",
     "output_type": "stream",
     "text": [
      "WARNING:tensorflow:From C:\\Users\\Bartosz\\Anaconda3\\lib\\site-packages\\tensorflow\\python\\ops\\resource_variable_ops.py:435: colocate_with (from tensorflow.python.framework.ops) is deprecated and will be removed in a future version.\n",
      "Instructions for updating:\n",
      "Colocations handled automatically by placer.\n"
     ]
    }
   ],
   "source": [
    "# now defining model\n",
    "model = keras.Sequential()\n",
    "model.add(keras.layers.Embedding(88000, 16))\n",
    "model.add(keras.layers.GlobalAveragePooling1D())\n",
    "model.add(keras.layers.Dense(16, activation=\"relu\"))\n",
    "model.add(keras.layers.Dense(1,  activation=\"sigmoid\"))"
   ]
  },
  {
   "cell_type": "code",
   "execution_count": 14,
   "metadata": {},
   "outputs": [
    {
     "name": "stdout",
     "output_type": "stream",
     "text": [
      "_________________________________________________________________\n",
      "Layer (type)                 Output Shape              Param #   \n",
      "=================================================================\n",
      "embedding (Embedding)        (None, None, 16)          1408000   \n",
      "_________________________________________________________________\n",
      "global_average_pooling1d (Gl (None, 16)                0         \n",
      "_________________________________________________________________\n",
      "dense (Dense)                (None, 16)                272       \n",
      "_________________________________________________________________\n",
      "dense_1 (Dense)              (None, 1)                 17        \n",
      "=================================================================\n",
      "Total params: 1,408,289\n",
      "Trainable params: 1,408,289\n",
      "Non-trainable params: 0\n",
      "_________________________________________________________________\n"
     ]
    }
   ],
   "source": [
    "model.summary()"
   ]
  },
  {
   "cell_type": "code",
   "execution_count": 15,
   "metadata": {},
   "outputs": [],
   "source": [
    "model.compile(optimizer=\"adam\", loss=\"binary_crossentropy\", metrics=[\"accuracy\"])\n",
    "x_val = train_data[:10000]\n",
    "x_train = train_data[10000:]\n",
    "\n",
    "y_val = train_labels[:10000]\n",
    "y_train = train_labels[10000:]"
   ]
  },
  {
   "cell_type": "code",
   "execution_count": 16,
   "metadata": {},
   "outputs": [
    {
     "name": "stdout",
     "output_type": "stream",
     "text": [
      "Train on 15000 samples, validate on 10000 samples\n",
      "WARNING:tensorflow:From C:\\Users\\Bartosz\\Anaconda3\\lib\\site-packages\\tensorflow\\python\\ops\\math_ops.py:3066: to_int32 (from tensorflow.python.ops.math_ops) is deprecated and will be removed in a future version.\n",
      "Instructions for updating:\n",
      "Use tf.cast instead.\n",
      "Epoch 1/35\n",
      "15000/15000 [==============================] - 3s 205us/sample - loss: 0.6924 - acc: 0.5325 - val_loss: 0.6911 - val_acc: 0.5217\n",
      "Epoch 2/35\n",
      "15000/15000 [==============================] - 2s 120us/sample - loss: 0.6881 - acc: 0.6564 - val_loss: 0.6849 - val_acc: 0.7157\n",
      "Epoch 3/35\n",
      "15000/15000 [==============================] - 2s 127us/sample - loss: 0.6782 - acc: 0.7374 - val_loss: 0.6721 - val_acc: 0.7510\n",
      "Epoch 4/35\n",
      "15000/15000 [==============================] - 2s 108us/sample - loss: 0.6598 - acc: 0.7541 - val_loss: 0.6501 - val_acc: 0.7542\n",
      "Epoch 5/35\n",
      "15000/15000 [==============================] - 2s 107us/sample - loss: 0.6303 - acc: 0.7849 - val_loss: 0.6180 - val_acc: 0.7773\n",
      "Epoch 6/35\n",
      "15000/15000 [==============================] - 2s 111us/sample - loss: 0.5904 - acc: 0.8047 - val_loss: 0.5784 - val_acc: 0.7963\n",
      "Epoch 7/35\n",
      "15000/15000 [==============================] - 2s 111us/sample - loss: 0.5438 - acc: 0.8203 - val_loss: 0.5340 - val_acc: 0.8112\n",
      "Epoch 8/35\n",
      "15000/15000 [==============================] - 2s 109us/sample - loss: 0.4957 - acc: 0.8391 - val_loss: 0.4918 - val_acc: 0.8257\n",
      "Epoch 9/35\n",
      "15000/15000 [==============================] - 2s 112us/sample - loss: 0.4501 - acc: 0.8529 - val_loss: 0.4530 - val_acc: 0.8383\n",
      "Epoch 10/35\n",
      "15000/15000 [==============================] - 2s 109us/sample - loss: 0.4094 - acc: 0.8667 - val_loss: 0.4204 - val_acc: 0.8450\n",
      "Epoch 11/35\n",
      "15000/15000 [==============================] - 2s 107us/sample - loss: 0.3744 - acc: 0.8763 - val_loss: 0.3929 - val_acc: 0.8557\n",
      "Epoch 12/35\n",
      "15000/15000 [==============================] - 2s 107us/sample - loss: 0.3444 - acc: 0.8852 - val_loss: 0.3715 - val_acc: 0.8584\n",
      "Epoch 13/35\n",
      "15000/15000 [==============================] - 2s 109us/sample - loss: 0.3201 - acc: 0.8913 - val_loss: 0.3529 - val_acc: 0.8660\n",
      "Epoch 14/35\n",
      "15000/15000 [==============================] - 2s 108us/sample - loss: 0.2985 - acc: 0.8979 - val_loss: 0.3395 - val_acc: 0.8702\n",
      "Epoch 15/35\n",
      "15000/15000 [==============================] - 2s 111us/sample - loss: 0.2807 - acc: 0.9018 - val_loss: 0.3286 - val_acc: 0.8720\n",
      "Epoch 16/35\n",
      "15000/15000 [==============================] - 2s 110us/sample - loss: 0.2648 - acc: 0.9081 - val_loss: 0.3194 - val_acc: 0.8742\n",
      "Epoch 17/35\n",
      "15000/15000 [==============================] - 2s 109us/sample - loss: 0.2503 - acc: 0.9127 - val_loss: 0.3120 - val_acc: 0.8766\n",
      "Epoch 18/35\n",
      "15000/15000 [==============================] - 2s 109us/sample - loss: 0.2374 - acc: 0.9166 - val_loss: 0.3056 - val_acc: 0.8789\n",
      "Epoch 19/35\n",
      "15000/15000 [==============================] - 2s 110us/sample - loss: 0.2259 - acc: 0.9203 - val_loss: 0.3001 - val_acc: 0.8805\n",
      "Epoch 20/35\n",
      "15000/15000 [==============================] - 2s 110us/sample - loss: 0.2154 - acc: 0.9243 - val_loss: 0.2965 - val_acc: 0.8817\n",
      "Epoch 21/35\n",
      "15000/15000 [==============================] - 2s 109us/sample - loss: 0.2049 - acc: 0.9289 - val_loss: 0.2933 - val_acc: 0.8831\n",
      "Epoch 22/35\n",
      "15000/15000 [==============================] - 2s 109us/sample - loss: 0.1961 - acc: 0.9325 - val_loss: 0.2906 - val_acc: 0.8831\n",
      "Epoch 23/35\n",
      "15000/15000 [==============================] - 2s 108us/sample - loss: 0.1871 - acc: 0.9369 - val_loss: 0.2895 - val_acc: 0.8829\n",
      "Epoch 24/35\n",
      "15000/15000 [==============================] - 2s 110us/sample - loss: 0.1794 - acc: 0.9405 - val_loss: 0.2874 - val_acc: 0.8847\n",
      "Epoch 25/35\n",
      "15000/15000 [==============================] - 2s 113us/sample - loss: 0.1715 - acc: 0.9439 - val_loss: 0.2860 - val_acc: 0.8852\n",
      "Epoch 26/35\n",
      "15000/15000 [==============================] - 2s 111us/sample - loss: 0.1645 - acc: 0.9473 - val_loss: 0.2865 - val_acc: 0.8834\n",
      "Epoch 27/35\n",
      "15000/15000 [==============================] - 2s 106us/sample - loss: 0.1578 - acc: 0.9492 - val_loss: 0.2859 - val_acc: 0.8840\n",
      "Epoch 28/35\n",
      "15000/15000 [==============================] - 2s 107us/sample - loss: 0.1514 - acc: 0.9524 - val_loss: 0.2860 - val_acc: 0.8848\n",
      "Epoch 29/35\n",
      "15000/15000 [==============================] - 2s 106us/sample - loss: 0.1460 - acc: 0.9551 - val_loss: 0.2881 - val_acc: 0.8841\n",
      "Epoch 30/35\n",
      "15000/15000 [==============================] - 2s 107us/sample - loss: 0.1401 - acc: 0.9567 - val_loss: 0.2872 - val_acc: 0.8855\n",
      "Epoch 31/35\n",
      "15000/15000 [==============================] - 2s 107us/sample - loss: 0.1342 - acc: 0.9599 - val_loss: 0.2882 - val_acc: 0.8865\n",
      "Epoch 32/35\n",
      "15000/15000 [==============================] - 2s 106us/sample - loss: 0.1289 - acc: 0.9627 - val_loss: 0.2897 - val_acc: 0.8860\n",
      "Epoch 33/35\n",
      "15000/15000 [==============================] - 2s 108us/sample - loss: 0.1237 - acc: 0.9639 - val_loss: 0.2920 - val_acc: 0.8855\n",
      "Epoch 34/35\n",
      "15000/15000 [==============================] - 2s 108us/sample - loss: 0.1192 - acc: 0.9656 - val_loss: 0.2938 - val_acc: 0.8871\n",
      "Epoch 35/35\n",
      "15000/15000 [==============================] - 2s 110us/sample - loss: 0.1149 - acc: 0.9666 - val_loss: 0.2965 - val_acc: 0.8858\n"
     ]
    }
   ],
   "source": [
    "fitModel = model.fit(x_train, y_train, epochs = 35, batch_size = 512, validation_data = (x_val, y_val), verbose = 1)"
   ]
  },
  {
   "cell_type": "code",
   "execution_count": 17,
   "metadata": {},
   "outputs": [
    {
     "name": "stdout",
     "output_type": "stream",
     "text": [
      "25000/25000 [==============================] - 2s 63us/sample - loss: 0.3152 - acc: 0.8737\n",
      "[0.3151730310535431, 0.87368]\n"
     ]
    }
   ],
   "source": [
    "result = model.evaluate(test_data, test_labels)\n",
    "print(result)"
   ]
  },
  {
   "cell_type": "code",
   "execution_count": 18,
   "metadata": {},
   "outputs": [
    {
     "name": "stdout",
     "output_type": "stream",
     "text": [
      "Review: \n",
      "<START> please give this one a miss br br <UNK> <UNK> and the rest of the cast rendered terrible performances the show is flat flat flat br br i don't know how michael madison could have allowed this one on his plate he almost seemed to know this wasn't going to work out and his performance was quite <UNK> so all you madison fans give this a miss <PAD> <PAD> <PAD> <PAD> <PAD> <PAD> <PAD> <PAD> <PAD> <PAD> <PAD> <PAD> <PAD> <PAD> <PAD> <PAD> <PAD> <PAD> <PAD> <PAD> <PAD> <PAD> <PAD> <PAD> <PAD> <PAD> <PAD> <PAD> <PAD> <PAD> <PAD> <PAD> <PAD> <PAD> <PAD> <PAD> <PAD> <PAD> <PAD> <PAD> <PAD> <PAD> <PAD> <PAD> <PAD> <PAD> <PAD> <PAD> <PAD> <PAD> <PAD> <PAD> <PAD> <PAD> <PAD> <PAD> <PAD> <PAD> <PAD> <PAD> <PAD> <PAD> <PAD> <PAD> <PAD> <PAD> <PAD> <PAD> <PAD> <PAD> <PAD> <PAD> <PAD> <PAD> <PAD> <PAD> <PAD> <PAD> <PAD> <PAD> <PAD> <PAD> <PAD> <PAD> <PAD> <PAD> <PAD> <PAD> <PAD> <PAD> <PAD> <PAD> <PAD> <PAD> <PAD> <PAD> <PAD> <PAD> <PAD> <PAD> <PAD> <PAD> <PAD> <PAD> <PAD> <PAD> <PAD> <PAD> <PAD> <PAD> <PAD> <PAD> <PAD> <PAD> <PAD> <PAD> <PAD> <PAD> <PAD> <PAD> <PAD> <PAD> <PAD> <PAD> <PAD> <PAD> <PAD> <PAD> <PAD> <PAD> <PAD> <PAD> <PAD> <PAD> <PAD> <PAD> <PAD> <PAD> <PAD> <PAD> <PAD> <PAD> <PAD> <PAD> <PAD> <PAD> <PAD> <PAD> <PAD> <PAD> <PAD> <PAD> <PAD> <PAD> <PAD> <PAD> <PAD> <PAD> <PAD> <PAD> <PAD> <PAD> <PAD> <PAD> <PAD> <PAD> <PAD> <PAD> <PAD> <PAD> <PAD> <PAD> <PAD> <PAD> <PAD> <PAD> <PAD> <PAD> <PAD> <PAD> <PAD> <PAD>\n",
      "Prediction: [0.]\n",
      "Accual: 0\n",
      "[0.3151730310535431, 0.87368]\n"
     ]
    }
   ],
   "source": [
    "test_review = test_data[0]\n",
    "predict = model.predict([test_review])\n",
    "print(\"Review: \")\n",
    "print(decode_review(test_review))\n",
    "print(\"Prediction: \" + str(predict[0]))\n",
    "print(\"Accual: \" + str(test_labels[0]))\n",
    "print(result)"
   ]
  },
  {
   "cell_type": "code",
   "execution_count": 5,
   "metadata": {},
   "outputs": [],
   "source": [
    "def  review_encode(s):\n",
    "    encoded = [1]\n",
    "    for word in s:\n",
    "        if word.lower() in word_index:\n",
    "            encoded.append(word_index[word.lower()])\n",
    "        else:\n",
    "            encoded.append(2)\n",
    "    return encoded"
   ]
  },
  {
   "cell_type": "code",
   "execution_count": 20,
   "metadata": {},
   "outputs": [],
   "source": [
    "model.save(\"model.h5\")"
   ]
  },
  {
   "cell_type": "code",
   "execution_count": 6,
   "metadata": {},
   "outputs": [],
   "source": [
    "model = keras.models.load_model(\"model.h5\")"
   ]
  },
  {
   "cell_type": "code",
   "execution_count": 22,
   "metadata": {},
   "outputs": [],
   "source": [
    "with open(\"test.txt\") as infile, open('output.txt', 'w') as outfile:\n",
    "    outfile.write(infile.read().replace(',', '').replace(',', '').replace('.', '')\n",
    "                  .replace('(', '').replace(')', '').replace('\\\"', '').replace(':', '')\n",
    "                  .replace('\\n', ' ').replace('\\r', ''))\n",
    "    "
   ]
  },
  {
   "cell_type": "code",
   "execution_count": null,
   "metadata": {},
   "outputs": [],
   "source": []
  },
  {
   "cell_type": "code",
   "execution_count": 239,
   "metadata": {},
   "outputs": [],
   "source": [
    "movies_reviews = pd.read_csv('movies_reviews.csv')"
   ]
  },
  {
   "cell_type": "code",
   "execution_count": 240,
   "metadata": {},
   "outputs": [
    {
     "data": {
      "text/html": [
       "<div>\n",
       "<style scoped>\n",
       "    .dataframe tbody tr th:only-of-type {\n",
       "        vertical-align: middle;\n",
       "    }\n",
       "\n",
       "    .dataframe tbody tr th {\n",
       "        vertical-align: top;\n",
       "    }\n",
       "\n",
       "    .dataframe thead th {\n",
       "        text-align: right;\n",
       "    }\n",
       "</style>\n",
       "<table border=\"1\" class=\"dataframe\">\n",
       "  <thead>\n",
       "    <tr style=\"text-align: right;\">\n",
       "      <th></th>\n",
       "      <th>Title</th>\n",
       "      <th>Reviews</th>\n",
       "    </tr>\n",
       "  </thead>\n",
       "  <tbody>\n",
       "    <tr>\n",
       "      <td>0</td>\n",
       "      <td>The Irishman</td>\n",
       "      <td>\"When I love a movie as much as I loved The Ir...</td>\n",
       "    </tr>\n",
       "    <tr>\n",
       "      <td>1</td>\n",
       "      <td>The Irishman</td>\n",
       "      <td>, The last 5 minutes of the movie explain ever...</td>\n",
       "    </tr>\n",
       "    <tr>\n",
       "      <td>2</td>\n",
       "      <td>The Irishman</td>\n",
       "      <td>, I was able to attend the NYC premiere this a...</td>\n",
       "    </tr>\n",
       "    <tr>\n",
       "      <td>3</td>\n",
       "      <td>Frozen II</td>\n",
       "      <td>\"(This has a post-credit scene in case youre w...</td>\n",
       "    </tr>\n",
       "    <tr>\n",
       "      <td>4</td>\n",
       "      <td>Frozen II</td>\n",
       "      <td>This is a beautiful movie, and Elsas journey ...</td>\n",
       "    </tr>\n",
       "    <tr>\n",
       "      <td>5</td>\n",
       "      <td>Frozen II</td>\n",
       "      <td>Its not hard to imagine how big this movie wi...</td>\n",
       "    </tr>\n",
       "    <tr>\n",
       "      <td>6</td>\n",
       "      <td>Knives Out</td>\n",
       "      <td>\"Best movie of the year, love everything about...</td>\n",
       "    </tr>\n",
       "    <tr>\n",
       "      <td>7</td>\n",
       "      <td>Knives Out</td>\n",
       "      <td>Reading through the reviews (and assuming tha...</td>\n",
       "    </tr>\n",
       "    <tr>\n",
       "      <td>8</td>\n",
       "      <td>Knives Out</td>\n",
       "      <td>, What an excellent film by Rian Johnson; defi...</td>\n",
       "    </tr>\n",
       "  </tbody>\n",
       "</table>\n",
       "</div>"
      ],
      "text/plain": [
       "           Title                                            Reviews\n",
       "0  The Irishman   \"When I love a movie as much as I loved The Ir...\n",
       "1  The Irishman   , The last 5 minutes of the movie explain ever...\n",
       "2  The Irishman   , I was able to attend the NYC premiere this a...\n",
       "3     Frozen II   \"(This has a post-credit scene in case youre w...\n",
       "4     Frozen II    This is a beautiful movie, and Elsas journey ...\n",
       "5     Frozen II    Its not hard to imagine how big this movie wi...\n",
       "6    Knives Out   \"Best movie of the year, love everything about...\n",
       "7    Knives Out    Reading through the reviews (and assuming tha...\n",
       "8    Knives Out   , What an excellent film by Rian Johnson; defi..."
      ]
     },
     "execution_count": 240,
     "metadata": {},
     "output_type": "execute_result"
    }
   ],
   "source": [
    "movies_reviews"
   ]
  },
  {
   "cell_type": "code",
   "execution_count": 241,
   "metadata": {},
   "outputs": [],
   "source": [
    "def format_review(review_string):\n",
    "    '''Formating reviews string and separating them to list elements.'''\n",
    "    review_string.replace(',', '').replace(',', '').replace('.', '').replace('(', '').replace(')', '').replace('\\\"', '').replace(':', '').replace('\\n', ' ').replace('\\r', '')\n",
    "    \n",
    "    return review_string"
   ]
  },
  {
   "cell_type": "code",
   "execution_count": 242,
   "metadata": {},
   "outputs": [],
   "source": [
    "movies_reviews.loc[:,'Reviews'] = movies_reviews.loc[:,'Reviews'].apply(format_review)"
   ]
  },
  {
   "cell_type": "code",
   "execution_count": 243,
   "metadata": {},
   "outputs": [
    {
     "data": {
      "text/html": [
       "<div>\n",
       "<style scoped>\n",
       "    .dataframe tbody tr th:only-of-type {\n",
       "        vertical-align: middle;\n",
       "    }\n",
       "\n",
       "    .dataframe tbody tr th {\n",
       "        vertical-align: top;\n",
       "    }\n",
       "\n",
       "    .dataframe thead th {\n",
       "        text-align: right;\n",
       "    }\n",
       "</style>\n",
       "<table border=\"1\" class=\"dataframe\">\n",
       "  <thead>\n",
       "    <tr style=\"text-align: right;\">\n",
       "      <th></th>\n",
       "      <th>Title</th>\n",
       "      <th>Reviews</th>\n",
       "      <th>Encoded_Reviews</th>\n",
       "    </tr>\n",
       "  </thead>\n",
       "  <tbody>\n",
       "    <tr>\n",
       "      <td>0</td>\n",
       "      <td>The Irishman</td>\n",
       "      <td>\"When I love a movie as much as I loved The Ir...</td>\n",
       "      <td>[1, 2, 1992, 2023, 963, 3363, 2, 13, 2, 2014, ...</td>\n",
       "    </tr>\n",
       "    <tr>\n",
       "      <td>1</td>\n",
       "      <td>The Irishman</td>\n",
       "      <td>, The last 5 minutes of the movie explain ever...</td>\n",
       "      <td>[1, 2, 2, 830, 2023, 963, 2, 2014, 6, 590, 830...</td>\n",
       "    </tr>\n",
       "    <tr>\n",
       "      <td>2</td>\n",
       "      <td>The Irishman</td>\n",
       "      <td>, I was able to attend the NYC premiere this a...</td>\n",
       "      <td>[1, 2, 2, 13, 2, 1992, 6, 590, 2, 6, 503, 2014...</td>\n",
       "    </tr>\n",
       "    <tr>\n",
       "      <td>3</td>\n",
       "      <td>Frozen II</td>\n",
       "      <td>\"(This has a post-credit scene in case youre w...</td>\n",
       "      <td>[1, 2, 2, 830, 2023, 13, 590, 2, 2023, 6, 590,...</td>\n",
       "    </tr>\n",
       "    <tr>\n",
       "      <td>4</td>\n",
       "      <td>Frozen II</td>\n",
       "      <td>This is a beautiful movie, and Elsas journey ...</td>\n",
       "      <td>[1, 2, 830, 2023, 13, 590, 2, 13, 590, 2, 6, 2...</td>\n",
       "    </tr>\n",
       "    <tr>\n",
       "      <td>5</td>\n",
       "      <td>Frozen II</td>\n",
       "      <td>Its not hard to imagine how big this movie wi...</td>\n",
       "      <td>[1, 2, 13, 830, 590, 2, 3363, 1604, 830, 2, 20...</td>\n",
       "    </tr>\n",
       "    <tr>\n",
       "      <td>6</td>\n",
       "      <td>Knives Out</td>\n",
       "      <td>\"Best movie of the year, love everything about...</td>\n",
       "      <td>[1, 2, 503, 963, 590, 830, 2, 1983, 1604, 1964...</td>\n",
       "    </tr>\n",
       "    <tr>\n",
       "      <td>7</td>\n",
       "      <td>Knives Out</td>\n",
       "      <td>Reading through the reviews (and assuming tha...</td>\n",
       "      <td>[1, 2, 1479, 963, 6, 1095, 13, 3363, 1331, 2, ...</td>\n",
       "    </tr>\n",
       "    <tr>\n",
       "      <td>8</td>\n",
       "      <td>Knives Out</td>\n",
       "      <td>, What an excellent film by Rian Johnson; defi...</td>\n",
       "      <td>[1, 2, 2, 1992, 2023, 6, 830, 2, 6, 3363, 2, 9...</td>\n",
       "    </tr>\n",
       "  </tbody>\n",
       "</table>\n",
       "</div>"
      ],
      "text/plain": [
       "           Title                                            Reviews  \\\n",
       "0  The Irishman   \"When I love a movie as much as I loved The Ir...   \n",
       "1  The Irishman   , The last 5 minutes of the movie explain ever...   \n",
       "2  The Irishman   , I was able to attend the NYC premiere this a...   \n",
       "3     Frozen II   \"(This has a post-credit scene in case youre w...   \n",
       "4     Frozen II    This is a beautiful movie, and Elsas journey ...   \n",
       "5     Frozen II    Its not hard to imagine how big this movie wi...   \n",
       "6    Knives Out   \"Best movie of the year, love everything about...   \n",
       "7    Knives Out    Reading through the reviews (and assuming tha...   \n",
       "8    Knives Out   , What an excellent film by Rian Johnson; defi...   \n",
       "\n",
       "                                     Encoded_Reviews  \n",
       "0  [1, 2, 1992, 2023, 963, 3363, 2, 13, 2, 2014, ...  \n",
       "1  [1, 2, 2, 830, 2023, 963, 2, 2014, 6, 590, 830...  \n",
       "2  [1, 2, 2, 13, 2, 1992, 6, 590, 2, 6, 503, 2014...  \n",
       "3  [1, 2, 2, 830, 2023, 13, 590, 2, 2023, 6, 590,...  \n",
       "4  [1, 2, 830, 2023, 13, 590, 2, 13, 590, 2, 6, 2...  \n",
       "5  [1, 2, 13, 830, 590, 2, 3363, 1604, 830, 2, 20...  \n",
       "6  [1, 2, 503, 963, 590, 830, 2, 1983, 1604, 1964...  \n",
       "7  [1, 2, 1479, 963, 6, 1095, 13, 3363, 1331, 2, ...  \n",
       "8  [1, 2, 2, 1992, 2023, 6, 830, 2, 6, 3363, 2, 9...  "
      ]
     },
     "execution_count": 243,
     "metadata": {},
     "output_type": "execute_result"
    }
   ],
   "source": [
    "movies_reviews.loc[:,'Encoded_Reviews'] = movies_reviews.loc[:,'Reviews'].apply(review_encode)\n",
    "movies_reviews"
   ]
  },
  {
   "cell_type": "code",
   "execution_count": 244,
   "metadata": {},
   "outputs": [],
   "source": [
    "\n",
    "movies_reviews.loc[:,'Preprocessed_Reviews'] = [keras.preprocessing.sequence.pad_sequences( k,  value = word_index[\"<PAD>\"], padding=\"post\", maxlen = 250) for index, k in movies_reviews[['Encoded_Reviews']].iterrows()]"
   ]
  },
  {
   "cell_type": "code",
   "execution_count": null,
   "metadata": {
    "scrolled": true
   },
   "outputs": [],
   "source": []
  },
  {
   "cell_type": "code",
   "execution_count": 245,
   "metadata": {
    "scrolled": true
   },
   "outputs": [],
   "source": [
    "movies_reviews.loc[:,'Preprocessed_Reviews'] = [keras.preprocessing.sequence.pad_sequences( k,  value = word_index[\"<PAD>\"],) for index, k in movies_reviews[['Encoded_Reviews']].iterrows()]"
   ]
  },
  {
   "cell_type": "code",
   "execution_count": 246,
   "metadata": {},
   "outputs": [],
   "source": [
    "def prediction(m):\n",
    "    b = model.predict(m)\n",
    "    return b"
   ]
  },
  {
   "cell_type": "code",
   "execution_count": 247,
   "metadata": {
    "scrolled": true
   },
   "outputs": [],
   "source": [
    "movies_reviews.loc[:,'Preprocessed_Reviews'] = movies_reviews.loc[:,'Preprocessed_Reviews'].apply(model.predict)"
   ]
  },
  {
   "cell_type": "code",
   "execution_count": 248,
   "metadata": {
    "scrolled": true
   },
   "outputs": [
    {
     "data": {
      "text/plain": [
       "0     [[0.0011626381]]\n",
       "1     [[0.0029579871]]\n",
       "2     [[0.0015028614]]\n",
       "3     [[0.0018451641]]\n",
       "4    [[0.00078531343]]\n",
       "5     [[0.0010952073]]\n",
       "6     [[0.0024196669]]\n",
       "7      [[0.004572668]]\n",
       "8     [[0.0014141949]]\n",
       "Name: Preprocessed_Reviews, dtype: object"
      ]
     },
     "execution_count": 248,
     "metadata": {},
     "output_type": "execute_result"
    }
   ],
   "source": [
    "movies_reviews.loc[:,'Preprocessed_Reviews']"
   ]
  },
  {
   "cell_type": "code",
   "execution_count": 249,
   "metadata": {},
   "outputs": [
    {
     "data": {
      "text/html": [
       "<div>\n",
       "<style scoped>\n",
       "    .dataframe tbody tr th:only-of-type {\n",
       "        vertical-align: middle;\n",
       "    }\n",
       "\n",
       "    .dataframe tbody tr th {\n",
       "        vertical-align: top;\n",
       "    }\n",
       "\n",
       "    .dataframe thead th {\n",
       "        text-align: right;\n",
       "    }\n",
       "</style>\n",
       "<table border=\"1\" class=\"dataframe\">\n",
       "  <thead>\n",
       "    <tr style=\"text-align: right;\">\n",
       "      <th></th>\n",
       "      <th>Title</th>\n",
       "      <th>Reviews</th>\n",
       "      <th>Encoded_Reviews</th>\n",
       "      <th>Preprocessed_Reviews</th>\n",
       "    </tr>\n",
       "  </thead>\n",
       "  <tbody>\n",
       "    <tr>\n",
       "      <td>0</td>\n",
       "      <td>The Irishman</td>\n",
       "      <td>\"When I love a movie as much as I loved The Ir...</td>\n",
       "      <td>[1, 2, 1992, 2023, 963, 3363, 2, 13, 2, 2014, ...</td>\n",
       "      <td>[[0.0011626381]]</td>\n",
       "    </tr>\n",
       "    <tr>\n",
       "      <td>1</td>\n",
       "      <td>The Irishman</td>\n",
       "      <td>, The last 5 minutes of the movie explain ever...</td>\n",
       "      <td>[1, 2, 2, 830, 2023, 963, 2, 2014, 6, 590, 830...</td>\n",
       "      <td>[[0.0029579871]]</td>\n",
       "    </tr>\n",
       "    <tr>\n",
       "      <td>2</td>\n",
       "      <td>The Irishman</td>\n",
       "      <td>, I was able to attend the NYC premiere this a...</td>\n",
       "      <td>[1, 2, 2, 13, 2, 1992, 6, 590, 2, 6, 503, 2014...</td>\n",
       "      <td>[[0.0015028614]]</td>\n",
       "    </tr>\n",
       "    <tr>\n",
       "      <td>3</td>\n",
       "      <td>Frozen II</td>\n",
       "      <td>\"(This has a post-credit scene in case youre w...</td>\n",
       "      <td>[1, 2, 2, 830, 2023, 13, 590, 2, 2023, 6, 590,...</td>\n",
       "      <td>[[0.0018451641]]</td>\n",
       "    </tr>\n",
       "    <tr>\n",
       "      <td>4</td>\n",
       "      <td>Frozen II</td>\n",
       "      <td>This is a beautiful movie, and Elsas journey ...</td>\n",
       "      <td>[1, 2, 830, 2023, 13, 590, 2, 13, 590, 2, 6, 2...</td>\n",
       "      <td>[[0.00078531343]]</td>\n",
       "    </tr>\n",
       "    <tr>\n",
       "      <td>5</td>\n",
       "      <td>Frozen II</td>\n",
       "      <td>Its not hard to imagine how big this movie wi...</td>\n",
       "      <td>[1, 2, 13, 830, 590, 2, 3363, 1604, 830, 2, 20...</td>\n",
       "      <td>[[0.0010952073]]</td>\n",
       "    </tr>\n",
       "    <tr>\n",
       "      <td>6</td>\n",
       "      <td>Knives Out</td>\n",
       "      <td>\"Best movie of the year, love everything about...</td>\n",
       "      <td>[1, 2, 503, 963, 590, 830, 2, 1983, 1604, 1964...</td>\n",
       "      <td>[[0.0024196669]]</td>\n",
       "    </tr>\n",
       "    <tr>\n",
       "      <td>7</td>\n",
       "      <td>Knives Out</td>\n",
       "      <td>Reading through the reviews (and assuming tha...</td>\n",
       "      <td>[1, 2, 1479, 963, 6, 1095, 13, 3363, 1331, 2, ...</td>\n",
       "      <td>[[0.004572668]]</td>\n",
       "    </tr>\n",
       "    <tr>\n",
       "      <td>8</td>\n",
       "      <td>Knives Out</td>\n",
       "      <td>, What an excellent film by Rian Johnson; defi...</td>\n",
       "      <td>[1, 2, 2, 1992, 2023, 6, 830, 2, 6, 3363, 2, 9...</td>\n",
       "      <td>[[0.0014141949]]</td>\n",
       "    </tr>\n",
       "  </tbody>\n",
       "</table>\n",
       "</div>"
      ],
      "text/plain": [
       "           Title                                            Reviews  \\\n",
       "0  The Irishman   \"When I love a movie as much as I loved The Ir...   \n",
       "1  The Irishman   , The last 5 minutes of the movie explain ever...   \n",
       "2  The Irishman   , I was able to attend the NYC premiere this a...   \n",
       "3     Frozen II   \"(This has a post-credit scene in case youre w...   \n",
       "4     Frozen II    This is a beautiful movie, and Elsas journey ...   \n",
       "5     Frozen II    Its not hard to imagine how big this movie wi...   \n",
       "6    Knives Out   \"Best movie of the year, love everything about...   \n",
       "7    Knives Out    Reading through the reviews (and assuming tha...   \n",
       "8    Knives Out   , What an excellent film by Rian Johnson; defi...   \n",
       "\n",
       "                                     Encoded_Reviews Preprocessed_Reviews  \n",
       "0  [1, 2, 1992, 2023, 963, 3363, 2, 13, 2, 2014, ...     [[0.0011626381]]  \n",
       "1  [1, 2, 2, 830, 2023, 963, 2, 2014, 6, 590, 830...     [[0.0029579871]]  \n",
       "2  [1, 2, 2, 13, 2, 1992, 6, 590, 2, 6, 503, 2014...     [[0.0015028614]]  \n",
       "3  [1, 2, 2, 830, 2023, 13, 590, 2, 2023, 6, 590,...     [[0.0018451641]]  \n",
       "4  [1, 2, 830, 2023, 13, 590, 2, 13, 590, 2, 6, 2...    [[0.00078531343]]  \n",
       "5  [1, 2, 13, 830, 590, 2, 3363, 1604, 830, 2, 20...     [[0.0010952073]]  \n",
       "6  [1, 2, 503, 963, 590, 830, 2, 1983, 1604, 1964...     [[0.0024196669]]  \n",
       "7  [1, 2, 1479, 963, 6, 1095, 13, 3363, 1331, 2, ...      [[0.004572668]]  \n",
       "8  [1, 2, 2, 1992, 2023, 6, 830, 2, 6, 3363, 2, 9...     [[0.0014141949]]  "
      ]
     },
     "execution_count": 249,
     "metadata": {},
     "output_type": "execute_result"
    }
   ],
   "source": [
    "movies_reviews"
   ]
  },
  {
   "cell_type": "code",
   "execution_count": null,
   "metadata": {},
   "outputs": [],
   "source": []
  },
  {
   "cell_type": "code",
   "execution_count": null,
   "metadata": {},
   "outputs": [],
   "source": []
  },
  {
   "cell_type": "code",
   "execution_count": null,
   "metadata": {},
   "outputs": [],
   "source": []
  },
  {
   "cell_type": "code",
   "execution_count": null,
   "metadata": {},
   "outputs": [],
   "source": []
  },
  {
   "cell_type": "code",
   "execution_count": null,
   "metadata": {},
   "outputs": [],
   "source": []
  },
  {
   "cell_type": "code",
   "execution_count": null,
   "metadata": {},
   "outputs": [],
   "source": []
  },
  {
   "cell_type": "code",
   "execution_count": null,
   "metadata": {},
   "outputs": [],
   "source": []
  },
  {
   "cell_type": "code",
   "execution_count": null,
   "metadata": {},
   "outputs": [],
   "source": []
  },
  {
   "cell_type": "code",
   "execution_count": null,
   "metadata": {},
   "outputs": [],
   "source": []
  },
  {
   "cell_type": "code",
   "execution_count": null,
   "metadata": {},
   "outputs": [],
   "source": []
  }
 ],
 "metadata": {
  "kernelspec": {
   "display_name": "Python 3",
   "language": "python",
   "name": "python3"
  },
  "language_info": {
   "codemirror_mode": {
    "name": "ipython",
    "version": 3
   },
   "file_extension": ".py",
   "mimetype": "text/x-python",
   "name": "python",
   "nbconvert_exporter": "python",
   "pygments_lexer": "ipython3",
   "version": "3.7.4"
  }
 },
 "nbformat": 4,
 "nbformat_minor": 2
}
