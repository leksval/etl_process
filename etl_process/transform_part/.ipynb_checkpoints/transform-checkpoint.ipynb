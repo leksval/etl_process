{
 "cells": [
  {
   "cell_type": "code",
   "execution_count": 256,
   "metadata": {},
   "outputs": [],
   "source": [
    "import pandas as pd\n",
    "import numpy as np"
   ]
  },
  {
   "cell_type": "code",
   "execution_count": 281,
   "metadata": {},
   "outputs": [],
   "source": [
    "INPUT_CSV_FILE_NAME = 'extracted_movies.csv'\n",
    "MOVIES_DETAILS_CSV_NAME = 'movies_details.csv'\n",
    "MOVIES_CAST_CSV_NAME = 'movies_cast.csv'\n",
    "MOVIES_REVIEWS_CSV_NAME = 'movies_reviews.csv'\n",
    "END_REVIEW_TOKEN = '$&&&&$'"
   ]
  },
  {
   "cell_type": "code",
   "execution_count": 287,
   "metadata": {},
   "outputs": [],
   "source": [
    "movies = pd.read_csv(INPUT_CSV_FILE_NAME)\n",
    "movies_details = movies[['Title', 'Year', 'Director', 'Movie summary']].copy()"
   ]
  },
  {
   "cell_type": "code",
   "execution_count": 288,
   "metadata": {},
   "outputs": [],
   "source": [
    "movies_details.loc[:,'Title'] = movies_details.loc[:,'Title'].str.strip()\n",
    "# oczyszczanie kolumny 'Title' z niepotrzebnych białych znaków"
   ]
  },
  {
   "cell_type": "code",
   "execution_count": 290,
   "metadata": {},
   "outputs": [],
   "source": [
    "def from_string_to_dict_on_cast(cast_string):\n",
    "    #przetworzenie stringu na listę aktorzy i role w jednej tabeli\n",
    "    #aktorzy nieparzyści, role parzyste\n",
    "    cast_string = list(cast_string.replace(\"\\n\", \"\")\n",
    "                              .strip()\n",
    "                              .replace(\"\\\\n\", \"\")\n",
    "                              .replace(\"'\", \"\").replace(\"[  \", \"\")\n",
    "                              .replace(\"]\", \"\")\n",
    "                              .replace(\"               ...          \", \",   \")\n",
    "                              .split(\",   \"))\n",
    "    #przekonwertowanie listy na słownik aktor:rola\n",
    "    cast_dict = dict(zip(cast_string[::2], cast_string[1::2]))\n",
    "    return cast_dict"
   ]
  },
  {
   "cell_type": "code",
   "execution_count": 291,
   "metadata": {},
   "outputs": [],
   "source": [
    "movies_details.loc[:,'Year'] = movies_details.loc[:,'Year'].str.extract('(\\d+)').astype(int)\n",
    "# wyciągnięcie numeru z kolumny 'Year' i zmiana na int"
   ]
  },
  {
   "cell_type": "code",
   "execution_count": 292,
   "metadata": {},
   "outputs": [],
   "source": [
    "movies_details.loc[:,'Director'] = movies_details.loc[:,'Director'].str.replace(\"\\nDirector:\\n\", \"\").str.replace(\"\\nDirectors:\\n\", \"\")\n",
    "# wyciągnięcie z kolumny 'Title' imię i nazwisko reżysera"
   ]
  },
  {
   "cell_type": "code",
   "execution_count": 293,
   "metadata": {},
   "outputs": [
    {
     "data": {
      "text/html": [
       "<div>\n",
       "<style scoped>\n",
       "    .dataframe tbody tr th:only-of-type {\n",
       "        vertical-align: middle;\n",
       "    }\n",
       "\n",
       "    .dataframe tbody tr th {\n",
       "        vertical-align: top;\n",
       "    }\n",
       "\n",
       "    .dataframe thead th {\n",
       "        text-align: right;\n",
       "    }\n",
       "</style>\n",
       "<table border=\"1\" class=\"dataframe\">\n",
       "  <thead>\n",
       "    <tr style=\"text-align: right;\">\n",
       "      <th></th>\n",
       "      <th>Title</th>\n",
       "      <th>Year</th>\n",
       "      <th>Director</th>\n",
       "      <th>Movie summary</th>\n",
       "    </tr>\n",
       "  </thead>\n",
       "  <tbody>\n",
       "    <tr>\n",
       "      <td>0</td>\n",
       "      <td>The Irishman</td>\n",
       "      <td>2019</td>\n",
       "      <td>Martin Scorsese</td>\n",
       "      <td>A mob hitman recalls his possible involvement ...</td>\n",
       "    </tr>\n",
       "    <tr>\n",
       "      <td>1</td>\n",
       "      <td>Frozen II</td>\n",
       "      <td>2019</td>\n",
       "      <td>Chris Buck, Jennifer Lee</td>\n",
       "      <td>Anna, Elsa, Kristoff, Olaf and Sven leave Aren...</td>\n",
       "    </tr>\n",
       "    <tr>\n",
       "      <td>2</td>\n",
       "      <td>Knives Out</td>\n",
       "      <td>2019</td>\n",
       "      <td>Rian Johnson</td>\n",
       "      <td>A detective investigates the death of a patria...</td>\n",
       "    </tr>\n",
       "  </tbody>\n",
       "</table>\n",
       "</div>"
      ],
      "text/plain": [
       "          Title  Year                   Director  \\\n",
       "0  The Irishman  2019           Martin Scorsese    \n",
       "1     Frozen II  2019  Chris Buck, Jennifer Lee    \n",
       "2    Knives Out  2019              Rian Johnson    \n",
       "\n",
       "                                       Movie summary  \n",
       "0  A mob hitman recalls his possible involvement ...  \n",
       "1  Anna, Elsa, Kristoff, Olaf and Sven leave Aren...  \n",
       "2  A detective investigates the death of a patria...  "
      ]
     },
     "execution_count": 293,
     "metadata": {},
     "output_type": "execute_result"
    }
   ],
   "source": [
    "movies_details"
   ]
  },
  {
   "cell_type": "code",
   "execution_count": 294,
   "metadata": {
    "scrolled": true
   },
   "outputs": [],
   "source": [
    "movies_details.to_csv(MOVIES_DETAILS_CSV_NAME, index=False)"
   ]
  },
  {
   "cell_type": "code",
   "execution_count": null,
   "metadata": {},
   "outputs": [],
   "source": [
    "#####################################################################################"
   ]
  },
  {
   "cell_type": "code",
   "execution_count": 307,
   "metadata": {},
   "outputs": [],
   "source": [
    "movies_reviews = movies.filter(['Title', 'Reviews'], axis=1)"
   ]
  },
  {
   "cell_type": "code",
   "execution_count": 309,
   "metadata": {},
   "outputs": [],
   "source": [
    "def format_reviews(reviews_string):\n",
    "    '''Formating reviews string and separating them to list elements.'''\n",
    "    END_REVIEW_TOKEN = '$&&&&$'\n",
    "    reviews_list = list(reviews_string.replace(\"[\", \"\")\n",
    "                                      .replace(\"]\", \"\")\n",
    "                                      .replace(\"\\'\", \"\")\n",
    "                                      .replace(\"\\\\\", \"\")\n",
    "                                      .replace(\"\\\\t\", \"\")\n",
    "                                      .replace(\"\\\\s\", \"\")\n",
    "                                      .replace(\"\\\\m\", \"\")\n",
    "                                      .replace(', \"', \" \")\n",
    "                                      .strip()\n",
    "                                      .replace(END_REVIEW_TOKEN + '\"', END_REVIEW_TOKEN)\n",
    "                                      .split(END_REVIEW_TOKEN))\n",
    "     \n",
    "    del reviews_list[-1]\n",
    "    return reviews_list"
   ]
  },
  {
   "cell_type": "code",
   "execution_count": 310,
   "metadata": {},
   "outputs": [
    {
     "ename": "AttributeError",
     "evalue": "'list' object has no attribute 'replace'",
     "output_type": "error",
     "traceback": [
      "\u001b[0;31m---------------------------------------------------------------------------\u001b[0m",
      "\u001b[0;31mAttributeError\u001b[0m                            Traceback (most recent call last)",
      "\u001b[0;32m<ipython-input-310-13968ff7de2a>\u001b[0m in \u001b[0;36m<module>\u001b[0;34m\u001b[0m\n\u001b[0;32m----> 1\u001b[0;31m \u001b[0mmovies_reviews\u001b[0m\u001b[0;34m.\u001b[0m\u001b[0mloc\u001b[0m\u001b[0;34m[\u001b[0m\u001b[0;34m:\u001b[0m\u001b[0;34m,\u001b[0m\u001b[0;34m'Reviews'\u001b[0m\u001b[0;34m]\u001b[0m \u001b[0;34m=\u001b[0m \u001b[0mmovies_reviews\u001b[0m\u001b[0;34m.\u001b[0m\u001b[0mloc\u001b[0m\u001b[0;34m[\u001b[0m\u001b[0;34m:\u001b[0m\u001b[0;34m,\u001b[0m\u001b[0;34m'Reviews'\u001b[0m\u001b[0;34m]\u001b[0m\u001b[0;34m.\u001b[0m\u001b[0mapply\u001b[0m\u001b[0;34m(\u001b[0m\u001b[0mformat_reviews\u001b[0m\u001b[0;34m)\u001b[0m\u001b[0;34m\u001b[0m\u001b[0;34m\u001b[0m\u001b[0m\n\u001b[0m",
      "\u001b[0;32m~/anaconda3/lib/python3.7/site-packages/pandas/core/series.py\u001b[0m in \u001b[0;36mapply\u001b[0;34m(self, func, convert_dtype, args, **kwds)\u001b[0m\n\u001b[1;32m   4040\u001b[0m             \u001b[0;32melse\u001b[0m\u001b[0;34m:\u001b[0m\u001b[0;34m\u001b[0m\u001b[0;34m\u001b[0m\u001b[0m\n\u001b[1;32m   4041\u001b[0m                 \u001b[0mvalues\u001b[0m \u001b[0;34m=\u001b[0m \u001b[0mself\u001b[0m\u001b[0;34m.\u001b[0m\u001b[0mastype\u001b[0m\u001b[0;34m(\u001b[0m\u001b[0mobject\u001b[0m\u001b[0;34m)\u001b[0m\u001b[0;34m.\u001b[0m\u001b[0mvalues\u001b[0m\u001b[0;34m\u001b[0m\u001b[0;34m\u001b[0m\u001b[0m\n\u001b[0;32m-> 4042\u001b[0;31m                 \u001b[0mmapped\u001b[0m \u001b[0;34m=\u001b[0m \u001b[0mlib\u001b[0m\u001b[0;34m.\u001b[0m\u001b[0mmap_infer\u001b[0m\u001b[0;34m(\u001b[0m\u001b[0mvalues\u001b[0m\u001b[0;34m,\u001b[0m \u001b[0mf\u001b[0m\u001b[0;34m,\u001b[0m \u001b[0mconvert\u001b[0m\u001b[0;34m=\u001b[0m\u001b[0mconvert_dtype\u001b[0m\u001b[0;34m)\u001b[0m\u001b[0;34m\u001b[0m\u001b[0;34m\u001b[0m\u001b[0m\n\u001b[0m\u001b[1;32m   4043\u001b[0m \u001b[0;34m\u001b[0m\u001b[0m\n\u001b[1;32m   4044\u001b[0m         \u001b[0;32mif\u001b[0m \u001b[0mlen\u001b[0m\u001b[0;34m(\u001b[0m\u001b[0mmapped\u001b[0m\u001b[0;34m)\u001b[0m \u001b[0;32mand\u001b[0m \u001b[0misinstance\u001b[0m\u001b[0;34m(\u001b[0m\u001b[0mmapped\u001b[0m\u001b[0;34m[\u001b[0m\u001b[0;36m0\u001b[0m\u001b[0;34m]\u001b[0m\u001b[0;34m,\u001b[0m \u001b[0mSeries\u001b[0m\u001b[0;34m)\u001b[0m\u001b[0;34m:\u001b[0m\u001b[0;34m\u001b[0m\u001b[0;34m\u001b[0m\u001b[0m\n",
      "\u001b[0;32mpandas/_libs/lib.pyx\u001b[0m in \u001b[0;36mpandas._libs.lib.map_infer\u001b[0;34m()\u001b[0m\n",
      "\u001b[0;32m<ipython-input-309-e86bb6ba8d0e>\u001b[0m in \u001b[0;36mformat_reviews\u001b[0;34m(reviews_string)\u001b[0m\n\u001b[1;32m      2\u001b[0m     \u001b[0;34m'''Formating reviews string and separating them to list elements.'''\u001b[0m\u001b[0;34m\u001b[0m\u001b[0;34m\u001b[0m\u001b[0m\n\u001b[1;32m      3\u001b[0m     \u001b[0mEND_REVIEW_TOKEN\u001b[0m \u001b[0;34m=\u001b[0m \u001b[0;34m'$&&&&$'\u001b[0m\u001b[0;34m\u001b[0m\u001b[0;34m\u001b[0m\u001b[0m\n\u001b[0;32m----> 4\u001b[0;31m     reviews_list = list(reviews_string.replace(\"[\", \"\")\n\u001b[0m\u001b[1;32m      5\u001b[0m                                       \u001b[0;34m.\u001b[0m\u001b[0mreplace\u001b[0m\u001b[0;34m(\u001b[0m\u001b[0;34m\"]\"\u001b[0m\u001b[0;34m,\u001b[0m \u001b[0;34m\"\"\u001b[0m\u001b[0;34m)\u001b[0m\u001b[0;34m\u001b[0m\u001b[0;34m\u001b[0m\u001b[0m\n\u001b[1;32m      6\u001b[0m                                       \u001b[0;34m.\u001b[0m\u001b[0mreplace\u001b[0m\u001b[0;34m(\u001b[0m\u001b[0;34m\"\\'\"\u001b[0m\u001b[0;34m,\u001b[0m \u001b[0;34m\"\"\u001b[0m\u001b[0;34m)\u001b[0m\u001b[0;34m\u001b[0m\u001b[0;34m\u001b[0m\u001b[0m\n",
      "\u001b[0;31mAttributeError\u001b[0m: 'list' object has no attribute 'replace'"
     ]
    }
   ],
   "source": [
    "movies_reviews.loc[:,'Reviews'] = movies_reviews.loc[:,'Reviews'].apply(format_reviews)"
   ]
  },
  {
   "cell_type": "code",
   "execution_count": 311,
   "metadata": {},
   "outputs": [],
   "source": [
    "def create_row_for_each_list_element(movies, list_column_to_split):\n",
    "    '''Creating row in dataframe for each list element.'''\n",
    "\n",
    "    extended_reviews_df = pd.DataFrame({\n",
    "                        col:np.repeat(movies[col].values, movies[list_column_to_split].str.len())\n",
    "                        for col in movies.columns.drop(list_column_to_split)\n",
    "                        }).assign(**{reviews_col:np.concatenate(movies[list_column_to_split].values)})[movies.columns]\n",
    "    return extended_reviews_df"
   ]
  },
  {
   "cell_type": "code",
   "execution_count": 314,
   "metadata": {},
   "outputs": [],
   "source": [
    "\n",
    "movies_reviews = create_row_for_each_list_element(movies_reviews, 'Reviews')"
   ]
  },
  {
   "cell_type": "code",
   "execution_count": 316,
   "metadata": {},
   "outputs": [],
   "source": [
    "movies_reviews.to_csv(MOVIES_REVIEWS_CSV_NAME, index=False)"
   ]
  },
  {
   "cell_type": "code",
   "execution_count": null,
   "metadata": {},
   "outputs": [],
   "source": [
    "###########################################################################################"
   ]
  },
  {
   "cell_type": "code",
   "execution_count": null,
   "metadata": {},
   "outputs": [],
   "source": []
  },
  {
   "cell_type": "code",
   "execution_count": null,
   "metadata": {},
   "outputs": [],
   "source": [
    "def from_string_to_dict_on_cast(cast_string):\n",
    "    '''Modifing cast string and saving results to dictionary'''\n",
    "    #przetworzenie stringu na listę aktorzy i role w jednej tabeli\n",
    "    #aktorzy nieparzyści, role parzyste\n",
    "    cast_string = list(cast_string.replace(\"\\n\", \"\")\n",
    "                              .strip()\n",
    "                              .replace(\"\\\\n\", \"\")\n",
    "                              .replace(\"'\", \"\").replace(\"[  \", \"\")\n",
    "                              .replace(\"]\", \"\")\n",
    "                              .replace(\"               ...          \", \",   \")\n",
    "                              .split(\",   \"))\n",
    "    #przekonwertowanie listy na słownik aktor:rola\n",
    "    cast_dict = dict(zip(cast_string[::2], cast_string[1::2]))\n",
    "    return cast_dict\n",
    "movies.loc[:,'Cast'] = movies.loc[:,'Cast'].apply(from_string_to_dict_on_cast)"
   ]
  },
  {
   "cell_type": "code",
   "execution_count": null,
   "metadata": {},
   "outputs": [],
   "source": []
  },
  {
   "cell_type": "code",
   "execution_count": null,
   "metadata": {},
   "outputs": [],
   "source": []
  }
 ],
 "metadata": {
  "kernelspec": {
   "display_name": "Python 3",
   "language": "python",
   "name": "python3"
  },
  "language_info": {
   "codemirror_mode": {
    "name": "ipython",
    "version": 3
   },
   "file_extension": ".py",
   "mimetype": "text/x-python",
   "name": "python",
   "nbconvert_exporter": "python",
   "pygments_lexer": "ipython3",
   "version": "3.7.4"
  }
 },
 "nbformat": 4,
 "nbformat_minor": 2
}
