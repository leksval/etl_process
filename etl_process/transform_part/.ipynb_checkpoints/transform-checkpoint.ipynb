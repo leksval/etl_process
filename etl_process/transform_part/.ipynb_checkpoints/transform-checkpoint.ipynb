{
 "cells": [
  {
   "cell_type": "code",
   "execution_count": 44,
   "metadata": {},
   "outputs": [],
   "source": [
    "import pandas as pd\n",
    "import numpy as np\n",
    "from datetime import date"
   ]
  },
  {
   "cell_type": "code",
   "execution_count": 45,
   "metadata": {},
   "outputs": [],
   "source": [
    "INPUT_CSV_FILE_NAME = 'extracted_movies.csv'\n",
    "MOVIES_DETAILS_CSV_NAME = 'movies_details.csv'\n",
    "MOVIES_CAST_CSV_NAME = 'movies_cast.csv'\n",
    "MOVIES_REVIEWS_CSV_NAME = 'movies_reviews.csv'\n",
    "END_REVIEW_TOKEN = '$&&&&$'"
   ]
  },
  {
   "cell_type": "code",
   "execution_count": 46,
   "metadata": {},
   "outputs": [],
   "source": [
    "movies = pd.read_csv(INPUT_CSV_FILE_NAME)\n",
    "movies_details = movies[['Title', 'Year', 'Director', 'Movie summary']].copy()"
   ]
  },
  {
   "cell_type": "code",
   "execution_count": 47,
   "metadata": {},
   "outputs": [],
   "source": [
    "movies_details.loc[:,'Title'] = movies_details.loc[:,'Title'].str.strip()\n",
    "# oczyszczanie kolumny 'Title' z niepotrzebnych białych znaków"
   ]
  },
  {
   "cell_type": "code",
   "execution_count": 48,
   "metadata": {},
   "outputs": [],
   "source": [
    "movies_details.loc[:,'Year'] = movies_details.loc[:,'Year'].str.extract('(\\d+)').astype(int)\n",
    "# wyciągnięcie numeru z kolumny 'Year' i zmiana na int"
   ]
  },
  {
   "cell_type": "code",
   "execution_count": 49,
   "metadata": {},
   "outputs": [],
   "source": [
    "movies_details.loc[:,'Director'] = movies_details.loc[:,'Director'].str.replace(\"\\nDirector:\\n\", \"\").str.replace(\"\\nDirectors:\\n\", \"\")\n",
    "# wyciągnięcie z kolumny 'Title' imię i nazwisko reżysera"
   ]
  },
  {
   "cell_type": "code",
   "execution_count": 50,
   "metadata": {},
   "outputs": [],
   "source": [
    "movies_details.insert(loc = 0, column='Ranking position', value = movies_details.index + 1)\n",
    "movies_details.insert(loc = 0, column='Ranking date', value = date.today())"
   ]
  },
  {
   "cell_type": "code",
   "execution_count": 51,
   "metadata": {},
   "outputs": [
    {
     "data": {
      "text/html": [
       "<div>\n",
       "<style scoped>\n",
       "    .dataframe tbody tr th:only-of-type {\n",
       "        vertical-align: middle;\n",
       "    }\n",
       "\n",
       "    .dataframe tbody tr th {\n",
       "        vertical-align: top;\n",
       "    }\n",
       "\n",
       "    .dataframe thead th {\n",
       "        text-align: right;\n",
       "    }\n",
       "</style>\n",
       "<table border=\"1\" class=\"dataframe\">\n",
       "  <thead>\n",
       "    <tr style=\"text-align: right;\">\n",
       "      <th></th>\n",
       "      <th>Ranking date</th>\n",
       "      <th>Ranking position</th>\n",
       "      <th>Title</th>\n",
       "      <th>Year</th>\n",
       "      <th>Director</th>\n",
       "      <th>Movie summary</th>\n",
       "    </tr>\n",
       "  </thead>\n",
       "  <tbody>\n",
       "    <tr>\n",
       "      <td>0</td>\n",
       "      <td>2019-12-05</td>\n",
       "      <td>1</td>\n",
       "      <td>The Irishman</td>\n",
       "      <td>2019</td>\n",
       "      <td>Martin Scorsese</td>\n",
       "      <td>A mob hitman recalls his possible involvement ...</td>\n",
       "    </tr>\n",
       "    <tr>\n",
       "      <td>1</td>\n",
       "      <td>2019-12-05</td>\n",
       "      <td>2</td>\n",
       "      <td>Frozen II</td>\n",
       "      <td>2019</td>\n",
       "      <td>Chris Buck, Jennifer Lee</td>\n",
       "      <td>Anna, Elsa, Kristoff, Olaf and Sven leave Aren...</td>\n",
       "    </tr>\n",
       "    <tr>\n",
       "      <td>2</td>\n",
       "      <td>2019-12-05</td>\n",
       "      <td>3</td>\n",
       "      <td>Knives Out</td>\n",
       "      <td>2019</td>\n",
       "      <td>Rian Johnson</td>\n",
       "      <td>A detective investigates the death of a patria...</td>\n",
       "    </tr>\n",
       "  </tbody>\n",
       "</table>\n",
       "</div>"
      ],
      "text/plain": [
       "  Ranking date  Ranking position         Title  Year  \\\n",
       "0   2019-12-05                 1  The Irishman  2019   \n",
       "1   2019-12-05                 2     Frozen II  2019   \n",
       "2   2019-12-05                 3    Knives Out  2019   \n",
       "\n",
       "                    Director  \\\n",
       "0           Martin Scorsese    \n",
       "1  Chris Buck, Jennifer Lee    \n",
       "2              Rian Johnson    \n",
       "\n",
       "                                       Movie summary  \n",
       "0  A mob hitman recalls his possible involvement ...  \n",
       "1  Anna, Elsa, Kristoff, Olaf and Sven leave Aren...  \n",
       "2  A detective investigates the death of a patria...  "
      ]
     },
     "execution_count": 51,
     "metadata": {},
     "output_type": "execute_result"
    }
   ],
   "source": [
    "movies_details"
   ]
  },
  {
   "cell_type": "code",
   "execution_count": 8,
   "metadata": {
    "scrolled": true
   },
   "outputs": [],
   "source": [
    "movies_details.to_csv(MOVIES_DETAILS_CSV_NAME, index=False)"
   ]
  },
  {
   "cell_type": "code",
   "execution_count": 9,
   "metadata": {},
   "outputs": [],
   "source": [
    "#####################################################################################"
   ]
  },
  {
   "cell_type": "code",
   "execution_count": 10,
   "metadata": {},
   "outputs": [],
   "source": [
    "movies_reviews = movies.filter(['Title', 'Reviews'], axis=1)"
   ]
  },
  {
   "cell_type": "code",
   "execution_count": 11,
   "metadata": {},
   "outputs": [],
   "source": [
    "def format_reviews(reviews_string):\n",
    "    '''Formating reviews string and separating them to list elements.'''\n",
    "    END_REVIEW_TOKEN = '$&&&&$'\n",
    "    reviews_list = list(reviews_string.replace(\"[\", \"\")\n",
    "                                      .replace(\"]\", \"\")\n",
    "                                      .replace(\"\\'\", \"\")\n",
    "                                      .replace(\"\\\\\", \"\")\n",
    "                                      .replace(\"\\\\t\", \"\")\n",
    "                                      .replace(\"\\\\s\", \"\")\n",
    "                                      .replace(\"\\\\m\", \"\")\n",
    "                                      .replace(', \"', \" \")\n",
    "                                      .strip()\n",
    "                                      .replace(END_REVIEW_TOKEN + '\"', END_REVIEW_TOKEN)\n",
    "                                      .split(END_REVIEW_TOKEN))\n",
    "     \n",
    "    del reviews_list[-1]\n",
    "    return reviews_list"
   ]
  },
  {
   "cell_type": "code",
   "execution_count": 12,
   "metadata": {},
   "outputs": [],
   "source": [
    "movies_reviews.loc[:,'Reviews'] = movies_reviews.loc[:,'Reviews'].apply(format_reviews)"
   ]
  },
  {
   "cell_type": "code",
   "execution_count": 57,
   "metadata": {},
   "outputs": [],
   "source": [
    "def create_row_for_each_list_element(df, list_column_to_split):\n",
    "    '''Creating row in dataframe for each list element.'''\n",
    "\n",
    "    extended_df = pd.DataFrame({\n",
    "                        col:np.repeat(df[col].values, df[list_column_to_split].str.len())\n",
    "                        for col in df.columns.drop(list_column_to_split)\n",
    "                        }).assign(**{list_column_to_split:np.concatenate(df[list_column_to_split].values)})[df.columns]\n",
    "    return extended_df"
   ]
  },
  {
   "cell_type": "code",
   "execution_count": 16,
   "metadata": {},
   "outputs": [],
   "source": [
    "movies_reviews = create_row_for_each_list_element(movies_reviews, 'Reviews')"
   ]
  },
  {
   "cell_type": "code",
   "execution_count": 17,
   "metadata": {},
   "outputs": [],
   "source": [
    "movies_reviews.to_csv(MOVIES_REVIEWS_CSV_NAME, index=False)"
   ]
  },
  {
   "cell_type": "code",
   "execution_count": 18,
   "metadata": {},
   "outputs": [],
   "source": [
    "###########################################################################################"
   ]
  },
  {
   "cell_type": "code",
   "execution_count": null,
   "metadata": {},
   "outputs": [],
   "source": []
  },
  {
   "cell_type": "markdown",
   "metadata": {},
   "source": [
    "def from_string_to_dict_on_cast(cast_string):\n",
    "    '''Modifing cast string and saving results to dictionary'''\n",
    "    #przetworzenie stringu na listę aktorzy i role w jednej tabeli\n",
    "    #aktorzy nieparzyści, role parzyste\n",
    "    cast_string = list(cast_string.replace(\"\\n\", \"\")\n",
    "                              .strip()\n",
    "                              .replace(\"\\\\n\", \"\")\n",
    "                              .replace(\"'\", \"\").replace(\"[  \", \"\")\n",
    "                              .replace(\"]\", \"\")\n",
    "                              .replace(\"               ...          \", \",   \")\n",
    "                              .split(\",   \"))\n",
    "    #przekonwertowanie listy na słownik aktor:rola\n",
    "    cast_dict = dict(zip(cast_string[::2], cast_string[1::2]))\n",
    "    return cast_dict\n"
   ]
  },
  {
   "cell_type": "code",
   "execution_count": null,
   "metadata": {},
   "outputs": [],
   "source": []
  },
  {
   "cell_type": "code",
   "execution_count": 70,
   "metadata": {},
   "outputs": [],
   "source": [
    "movies_cast = movies.filter(['Title', 'Cast'], axis=1)"
   ]
  },
  {
   "cell_type": "code",
   "execution_count": 71,
   "metadata": {},
   "outputs": [],
   "source": [
    "def from_string_to_list_on_cast(cast_string):\n",
    "    '''Modifing cast string and saving results to list'''\n",
    "    #przetworzenie stringu na listę aktorzy i role w jednej tabeli\n",
    "    #aktorzy nieparzyści, role parzyste\n",
    "    cast_string = list(cast_string.replace(\"\\n\", \"\")\n",
    "                              .strip()\n",
    "                              .replace(\"\\\\n\", \"\")\n",
    "                              .replace(\"'\", \"\").replace(\"[  \", \"\")\n",
    "                              .replace(\"]\", \"\")\n",
    "                              .replace(\"               ...          \", \": \")\n",
    "                              .replace(':', \",   \") # delete role names\n",
    "                              .split(\",   \"))\n",
    "    #przekonwertowanie lna liste aktor:rola\n",
    "    cast_list = cast_string\n",
    "    return cast_list\n"
   ]
  },
  {
   "cell_type": "code",
   "execution_count": 72,
   "metadata": {},
   "outputs": [],
   "source": [
    "movies_cast.loc[:,'Cast'] = movies_cast.loc[:,'Cast'].apply(from_string_to_list_on_cast)"
   ]
  },
  {
   "cell_type": "code",
   "execution_count": 73,
   "metadata": {
    "scrolled": true
   },
   "outputs": [],
   "source": [
    "movies_cast = create_row_for_each_list_element(movies_cast, 'Cast')"
   ]
  },
  {
   "cell_type": "code",
   "execution_count": 74,
   "metadata": {},
   "outputs": [
    {
     "data": {
      "text/html": [
       "<div>\n",
       "<style scoped>\n",
       "    .dataframe tbody tr th:only-of-type {\n",
       "        vertical-align: middle;\n",
       "    }\n",
       "\n",
       "    .dataframe tbody tr th {\n",
       "        vertical-align: top;\n",
       "    }\n",
       "\n",
       "    .dataframe thead th {\n",
       "        text-align: right;\n",
       "    }\n",
       "</style>\n",
       "<table border=\"1\" class=\"dataframe\">\n",
       "  <thead>\n",
       "    <tr style=\"text-align: right;\">\n",
       "      <th></th>\n",
       "      <th>Title</th>\n",
       "      <th>Cast</th>\n",
       "    </tr>\n",
       "  </thead>\n",
       "  <tbody>\n",
       "    <tr>\n",
       "      <td>0</td>\n",
       "      <td>The Irishman</td>\n",
       "      <td>Robert De Niro</td>\n",
       "    </tr>\n",
       "    <tr>\n",
       "      <td>1</td>\n",
       "      <td>The Irishman</td>\n",
       "      <td>Frank Sheeran</td>\n",
       "    </tr>\n",
       "    <tr>\n",
       "      <td>2</td>\n",
       "      <td>The Irishman</td>\n",
       "      <td>Al Pacino</td>\n",
       "    </tr>\n",
       "    <tr>\n",
       "      <td>3</td>\n",
       "      <td>The Irishman</td>\n",
       "      <td>Jimmy Hoffa</td>\n",
       "    </tr>\n",
       "    <tr>\n",
       "      <td>4</td>\n",
       "      <td>The Irishman</td>\n",
       "      <td>Joe Pesci</td>\n",
       "    </tr>\n",
       "    <tr>\n",
       "      <td>5</td>\n",
       "      <td>The Irishman</td>\n",
       "      <td>Russell Bufalino</td>\n",
       "    </tr>\n",
       "    <tr>\n",
       "      <td>6</td>\n",
       "      <td>Frozen II</td>\n",
       "      <td>Kristen Bell</td>\n",
       "    </tr>\n",
       "    <tr>\n",
       "      <td>7</td>\n",
       "      <td>Frozen II</td>\n",
       "      <td>Anna       (voice)</td>\n",
       "    </tr>\n",
       "    <tr>\n",
       "      <td>8</td>\n",
       "      <td>Frozen II</td>\n",
       "      <td>Idina Menzel</td>\n",
       "    </tr>\n",
       "    <tr>\n",
       "      <td>9</td>\n",
       "      <td>Frozen II</td>\n",
       "      <td>Elsa       (voice)</td>\n",
       "    </tr>\n",
       "    <tr>\n",
       "      <td>10</td>\n",
       "      <td>Frozen II</td>\n",
       "      <td>Josh Gad</td>\n",
       "    </tr>\n",
       "    <tr>\n",
       "      <td>11</td>\n",
       "      <td>Frozen II</td>\n",
       "      <td>Olaf       (voice)</td>\n",
       "    </tr>\n",
       "    <tr>\n",
       "      <td>12</td>\n",
       "      <td>Knives Out</td>\n",
       "      <td>Daniel Craig</td>\n",
       "    </tr>\n",
       "    <tr>\n",
       "      <td>13</td>\n",
       "      <td>Knives Out</td>\n",
       "      <td>Benoit Blanc</td>\n",
       "    </tr>\n",
       "    <tr>\n",
       "      <td>14</td>\n",
       "      <td>Knives Out</td>\n",
       "      <td>Chris Evans</td>\n",
       "    </tr>\n",
       "    <tr>\n",
       "      <td>15</td>\n",
       "      <td>Knives Out</td>\n",
       "      <td>Ransom Drysdale</td>\n",
       "    </tr>\n",
       "    <tr>\n",
       "      <td>16</td>\n",
       "      <td>Knives Out</td>\n",
       "      <td>Ana de Armas</td>\n",
       "    </tr>\n",
       "    <tr>\n",
       "      <td>17</td>\n",
       "      <td>Knives Out</td>\n",
       "      <td>Marta Cabrera</td>\n",
       "    </tr>\n",
       "  </tbody>\n",
       "</table>\n",
       "</div>"
      ],
      "text/plain": [
       "            Title                                               Cast\n",
       "0   The Irishman                                      Robert De Niro\n",
       "1   The Irishman                                       Frank Sheeran\n",
       "2   The Irishman                                           Al Pacino\n",
       "3   The Irishman                                         Jimmy Hoffa\n",
       "4   The Irishman                                           Joe Pesci\n",
       "5   The Irishman                                    Russell Bufalino\n",
       "6      Frozen II                                        Kristen Bell\n",
       "7      Frozen II    Anna       (voice)                              \n",
       "8      Frozen II                                        Idina Menzel\n",
       "9      Frozen II    Elsa       (voice)                              \n",
       "10     Frozen II                                            Josh Gad\n",
       "11     Frozen II    Olaf       (voice)                              \n",
       "12    Knives Out                                        Daniel Craig\n",
       "13    Knives Out                                        Benoit Blanc\n",
       "14    Knives Out                                         Chris Evans\n",
       "15    Knives Out                                     Ransom Drysdale\n",
       "16    Knives Out                                        Ana de Armas\n",
       "17    Knives Out                                       Marta Cabrera"
      ]
     },
     "execution_count": 74,
     "metadata": {},
     "output_type": "execute_result"
    }
   ],
   "source": [
    "movies_cast"
   ]
  },
  {
   "cell_type": "code",
   "execution_count": 59,
   "metadata": {},
   "outputs": [],
   "source": [
    "movies_cast.to_csv(MOVIES_CAST_CSV_NAME, index=False)"
   ]
  },
  {
   "cell_type": "code",
   "execution_count": null,
   "metadata": {},
   "outputs": [],
   "source": []
  },
  {
   "cell_type": "code",
   "execution_count": null,
   "metadata": {},
   "outputs": [],
   "source": []
  },
  {
   "cell_type": "code",
   "execution_count": null,
   "metadata": {},
   "outputs": [],
   "source": []
  },
  {
   "cell_type": "code",
   "execution_count": null,
   "metadata": {},
   "outputs": [],
   "source": []
  }
 ],
 "metadata": {
  "kernelspec": {
   "display_name": "Python 3",
   "language": "python",
   "name": "python3"
  },
  "language_info": {
   "codemirror_mode": {
    "name": "ipython",
    "version": 3
   },
   "file_extension": ".py",
   "mimetype": "text/x-python",
   "name": "python",
   "nbconvert_exporter": "python",
   "pygments_lexer": "ipython3",
   "version": "3.7.4"
  }
 },
 "nbformat": 4,
 "nbformat_minor": 2
}
