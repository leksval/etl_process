{
 "cells": [
  {
   "cell_type": "code",
   "execution_count": 10,
   "metadata": {},
   "outputs": [],
   "source": [
    "import tensorflow as tf\n",
    "from tensorflow import keras\n",
    "import numpy as np\n",
    "import pandas as pd"
   ]
  },
  {
   "cell_type": "code",
   "execution_count": 11,
   "metadata": {},
   "outputs": [],
   "source": [
    "MODEL_NAME = 'model.h5'\n",
    "CSV_FILE_NAME = 'movies_reviews.csv'\n",
    "GENERETED_FILE_WITH_RATING_NAME = 'movies_reviews_and_predictions.csv'"
   ]
  },
  {
   "cell_type": "code",
   "execution_count": 12,
   "metadata": {},
   "outputs": [],
   "source": [
    "def load_data_model_and_csv():\n",
    "    '''Loading all data sources'''\n",
    "    data = keras.datasets.imdb\n",
    "    model = keras.models.load_model(MODEL_NAME)\n",
    "    movies_reviews = pd.read_csv(CSV_FILE_NAME)\n",
    "    return data, model, movies_reviews"
   ]
  },
  {
   "cell_type": "code",
   "execution_count": 13,
   "metadata": {},
   "outputs": [],
   "source": [
    "def make_word_index():\n",
    "    '''Loading and modyfing word index dictionary'''\n",
    "    word_index = data.get_word_index()\n",
    "    word_index = {k:(v+3) for k,v in word_index.items()}\n",
    "    word_index[\"<PAD>\"] = 0\n",
    "    word_index[\"<START>\"] = 1\n",
    "    word_index[\"<UNK>\"] = 2\n",
    "    word_index[\"<INUSED>\"] = 3\n",
    "    return word_index"
   ]
  },
  {
   "cell_type": "code",
   "execution_count": 14,
   "metadata": {},
   "outputs": [],
   "source": [
    "def  review_encode(text):\n",
    "    '''Encoding words from text to dictionary'''\n",
    "    encoded = [1]\n",
    "    for word in text:\n",
    "        if word.lower() in word_index:\n",
    "            encoded.append(word_index[word.lower()])\n",
    "        else:\n",
    "            encoded.append(2)\n",
    "    return encoded"
   ]
  },
  {
   "cell_type": "code",
   "execution_count": 15,
   "metadata": {},
   "outputs": [],
   "source": [
    "def format_review(review_string):\n",
    "    '''Formating reviews string and separating them to list elements.'''\n",
    "    \n",
    "    review_string.replace(',', '').replace(',', '').replace('.', '').replace('(', '').replace(')', '').replace('\\\"', '').replace(':', '').replace('\\n', ' ').replace('\\r', '')\n",
    "    \n",
    "    return review_string"
   ]
  },
  {
   "cell_type": "code",
   "execution_count": 16,
   "metadata": {},
   "outputs": [],
   "source": [
    "def apply_model_and_add_rating_to_df():\n",
    "    movies_reviews.loc[:,'Reviews'] = movies_reviews.loc[:,'Reviews'].apply(format_review)\n",
    "    movies_reviews.loc[:,'Encoded_Reviews'] = movies_reviews.loc[:,'Reviews'].apply(review_encode)\n",
    "    movies_reviews.loc[:,'Preprocessed_Reviews'] = [keras.preprocessing.sequence.pad_sequences(k, value = word_index[\"<PAD>\"], padding=\"post\", maxlen = 250) for index, k in movies_reviews[['Encoded_Reviews']].iterrows()]\n",
    "    movies_reviews.loc[:,'Preprocessed_Reviews'] = [keras.preprocessing.sequence.pad_sequences(k, value = word_index[\"<PAD>\"],) for index, k in movies_reviews[['Encoded_Reviews']].iterrows()]\n",
    "    movies_reviews.loc[:,'Preprocessed_Reviews'] = movies_reviews.loc[:,'Preprocessed_Reviews'].apply(model.predict)\n",
    "    movies_reviews.loc[:,'Preprocessed_Reviews'] = movies_reviews.loc[:,'Preprocessed_Reviews'].apply(np.squeeze)\n",
    "    movies_reviews.drop('Encoded_Reviews', axis=1, inplace=True)\n",
    "    movies_reviews.rename({'Preprocessed_Reviews': 'Rating'}, axis=1, inplace=True)"
   ]
  },
  {
   "cell_type": "code",
   "execution_count": 17,
   "metadata": {
    "scrolled": true
   },
   "outputs": [],
   "source": [
    "def generate_csv_with_rating():\n",
    "    '''Generate csv file witch predictions based on reviews by applying ml model.'''\n",
    "    movies_reviews.to_csv(GENERETED_FILE_WITH_RATING_NAME)"
   ]
  },
  {
   "cell_type": "code",
   "execution_count": 18,
   "metadata": {},
   "outputs": [
    {
     "name": "stdout",
     "output_type": "stream",
     "text": [
      "WARNING:tensorflow:5 out of the last 5 calls to <function _make_execution_function.<locals>.distributed_function at 0x7fdd644c7b90> triggered tf.function retracing. Tracing is expensive and the excessive number of tracings is likely due to passing python objects instead of tensors. Also, tf.function has experimental_relax_shapes=True option that relaxes argument shapes that can avoid unnecessary retracing. Please refer to https://www.tensorflow.org/beta/tutorials/eager/tf_function#python_or_tensor_args and https://www.tensorflow.org/api_docs/python/tf/function for more details.\n",
      "WARNING:tensorflow:6 out of the last 6 calls to <function _make_execution_function.<locals>.distributed_function at 0x7fdd644c7b90> triggered tf.function retracing. Tracing is expensive and the excessive number of tracings is likely due to passing python objects instead of tensors. Also, tf.function has experimental_relax_shapes=True option that relaxes argument shapes that can avoid unnecessary retracing. Please refer to https://www.tensorflow.org/beta/tutorials/eager/tf_function#python_or_tensor_args and https://www.tensorflow.org/api_docs/python/tf/function for more details.\n",
      "WARNING:tensorflow:7 out of the last 7 calls to <function _make_execution_function.<locals>.distributed_function at 0x7fdd644c7b90> triggered tf.function retracing. Tracing is expensive and the excessive number of tracings is likely due to passing python objects instead of tensors. Also, tf.function has experimental_relax_shapes=True option that relaxes argument shapes that can avoid unnecessary retracing. Please refer to https://www.tensorflow.org/beta/tutorials/eager/tf_function#python_or_tensor_args and https://www.tensorflow.org/api_docs/python/tf/function for more details.\n",
      "WARNING:tensorflow:8 out of the last 8 calls to <function _make_execution_function.<locals>.distributed_function at 0x7fdd644c7b90> triggered tf.function retracing. Tracing is expensive and the excessive number of tracings is likely due to passing python objects instead of tensors. Also, tf.function has experimental_relax_shapes=True option that relaxes argument shapes that can avoid unnecessary retracing. Please refer to https://www.tensorflow.org/beta/tutorials/eager/tf_function#python_or_tensor_args and https://www.tensorflow.org/api_docs/python/tf/function for more details.\n",
      "WARNING:tensorflow:9 out of the last 9 calls to <function _make_execution_function.<locals>.distributed_function at 0x7fdd644c7b90> triggered tf.function retracing. Tracing is expensive and the excessive number of tracings is likely due to passing python objects instead of tensors. Also, tf.function has experimental_relax_shapes=True option that relaxes argument shapes that can avoid unnecessary retracing. Please refer to https://www.tensorflow.org/beta/tutorials/eager/tf_function#python_or_tensor_args and https://www.tensorflow.org/api_docs/python/tf/function for more details.\n"
     ]
    }
   ],
   "source": [
    "data, model, movies_reviews = load_data_model_and_csv()\n",
    "word_index = make_word_index()\n",
    "apply_model_and_add_rating_to_df()"
   ]
  },
  {
   "cell_type": "code",
   "execution_count": 19,
   "metadata": {},
   "outputs": [],
   "source": [
    "generate_csv_with_rating()"
   ]
  },
  {
   "cell_type": "code",
   "execution_count": null,
   "metadata": {},
   "outputs": [],
   "source": []
  }
 ],
 "metadata": {
  "kernelspec": {
   "display_name": "Python 3",
   "language": "python",
   "name": "python3"
  },
  "language_info": {
   "codemirror_mode": {
    "name": "ipython",
    "version": 3
   },
   "file_extension": ".py",
   "mimetype": "text/x-python",
   "name": "python",
   "nbconvert_exporter": "python",
   "pygments_lexer": "ipython3",
   "version": "3.7.4"
  }
 },
 "nbformat": 4,
 "nbformat_minor": 2
}
