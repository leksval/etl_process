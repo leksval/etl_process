{
 "cells": [
  {
   "cell_type": "code",
   "execution_count": 2,
   "metadata": {},
   "outputs": [],
   "source": [
    "import pandas as pd"
   ]
  },
  {
   "cell_type": "code",
   "execution_count": 69,
   "metadata": {},
   "outputs": [],
   "source": [
    "CSV_FILE_NAME = 'title_reviews.csv'\n",
    "BEGIN_REVIEW_TOKEN = '$+++$'\n",
    "END_REVIEW_TOKEN = '$&&&&$'"
   ]
  },
  {
   "cell_type": "code",
   "execution_count": 100,
   "metadata": {},
   "outputs": [],
   "source": [
    "movies = pd.read_csv(CSV_FILE_NAME)"
   ]
  },
  {
   "cell_type": "code",
   "execution_count": 101,
   "metadata": {},
   "outputs": [],
   "source": [
    "movies.loc[:,'Title'] = movies.loc[:,'Title'].str.strip()\n",
    "# oczyszczanie kolumny 'Title' z niepotrzebnych białych znaków"
   ]
  },
  {
   "cell_type": "code",
   "execution_count": 6,
   "metadata": {},
   "outputs": [],
   "source": [
    "movies['Year'] = movies['Year'].str.extract('(\\d+)').astype(int)\n",
    "# wyciągnięcie numeru z kolumny 'Year' i zmiana na int"
   ]
  },
  {
   "cell_type": "code",
   "execution_count": 7,
   "metadata": {},
   "outputs": [],
   "source": [
    "movies['Director'] = movies['Director'].str.replace(\"\\nDirector:\\n\", \"\")\n",
    "# wyciągnięcie z kolumny 'Title' imię i nazwisko reżysera"
   ]
  },
  {
   "cell_type": "code",
   "execution_count": 16,
   "metadata": {},
   "outputs": [],
   "source": [
    "def from_string_to_dict_on_cast(cast_string):\n",
    "    #przetworzenie stringu na listę aktorzy i role w jednej tabeli\n",
    "    #aktorzy nieparzyści, role parzyste\n",
    "    cast_string = list(cast_string.replace(\"\\n\", \"\")\n",
    "                              .strip()\n",
    "                              .replace(\"\\\\n\", \"\")\n",
    "                              .replace(\"'\", \"\").replace(\"[  \", \"\")\n",
    "                              .replace(\"]\", \"\")\n",
    "                              .replace(\"               ...          \", \",   \")\n",
    "                              .split(\",   \"))\n",
    "    #przekonwertowanie listy na słownik aktor:rola\n",
    "    cast_dict = dict(zip(cast_string[::2], cast_string[1::2]))\n",
    "    return cast_dict"
   ]
  },
  {
   "cell_type": "code",
   "execution_count": 17,
   "metadata": {},
   "outputs": [],
   "source": [
    "movies['Cast'] = movies['Cast'].apply(from_string_to_dict_on_cast)"
   ]
  },
  {
   "cell_type": "code",
   "execution_count": 43,
   "metadata": {},
   "outputs": [
    {
     "data": {
      "text/html": [
       "<div>\n",
       "<style scoped>\n",
       "    .dataframe tbody tr th:only-of-type {\n",
       "        vertical-align: middle;\n",
       "    }\n",
       "\n",
       "    .dataframe tbody tr th {\n",
       "        vertical-align: top;\n",
       "    }\n",
       "\n",
       "    .dataframe thead th {\n",
       "        text-align: right;\n",
       "    }\n",
       "</style>\n",
       "<table border=\"1\" class=\"dataframe\">\n",
       "  <thead>\n",
       "    <tr style=\"text-align: right;\">\n",
       "      <th></th>\n",
       "      <th>Title</th>\n",
       "      <th>Reviews</th>\n",
       "    </tr>\n",
       "  </thead>\n",
       "  <tbody>\n",
       "    <tr>\n",
       "      <td>0</td>\n",
       "      <td>The Irishman</td>\n",
       "      <td>[\"When I love a movie as much as I loved The I...</td>\n",
       "    </tr>\n",
       "    <tr>\n",
       "      <td>1</td>\n",
       "      <td>Frozen II</td>\n",
       "      <td>[\"(This has a post-credit scene in case you're...</td>\n",
       "    </tr>\n",
       "    <tr>\n",
       "      <td>2</td>\n",
       "      <td>Knives Out</td>\n",
       "      <td>[\"Best movie of the year, love everything abou...</td>\n",
       "    </tr>\n",
       "  </tbody>\n",
       "</table>\n",
       "</div>"
      ],
      "text/plain": [
       "          Title                                            Reviews\n",
       "0  The Irishman  [\"When I love a movie as much as I loved The I...\n",
       "1     Frozen II  [\"(This has a post-credit scene in case you're...\n",
       "2    Knives Out  [\"Best movie of the year, love everything abou..."
      ]
     },
     "execution_count": 43,
     "metadata": {},
     "output_type": "execute_result"
    }
   ],
   "source": [
    "movies"
   ]
  },
  {
   "cell_type": "code",
   "execution_count": 44,
   "metadata": {},
   "outputs": [],
   "source": [
    "#TODO: Poprawić wydobywanie recenzji i odpowiednio je przeformatować"
   ]
  },
  {
   "cell_type": "code",
   "execution_count": 92,
   "metadata": {},
   "outputs": [
    {
     "data": {
      "text/plain": [
       "['\"When I love a movie as much as I loved The Irishman, I feel torn. On one hand, I want to review it and rave about it and try to convince others to see it. But then on the other hand, I realise that doing so could set expectations too high, which could then lead to some people getting disappointed (this happens a lot with horror movies that get hyped at film festivals and then rejected by disappointed wide audiences, like with The Witch, It Follows, and Hereditary).So that leaves me in a tricky situation, and Ill compromise by praising the film as much as I can without overhyping, whilst also making vague comments that wont be specific enough to ruin what the film has to offer (because yes: its a Scorsese film. He has an incredibly varied filmography when you break down just what hes made over the last half-century, and so youre never going to get exactly what youd expect).Okay, acting: phenomenal. Besides Goodfellas, Pescis best performance ever. This is the best De Niros been since Cape Fear. This is the best Al Pacino has been in at least three decades. These men are old, and all accomplished and wealthy enough to retire happily at this point, but thankfully they all agreed to not only star in this movie, but commit themselves 100%. No ones phoning it in here. While the supporting cast are uniformly solid, these three steal the show and I hope all get Oscar nominations come awards season.Scorsese, to no ones surprise, directs brilliantly throughout, making every scene purposeful and captivating. The movie is long, but deservedly so. The various pay-offs towards the films conclusion would not hit nearly as hard if the film didnt spend so long building character, suspense, and emotion.As crude as it might sound, this movie- at about the halfway point- made me forget how badly I needed to use the theatres restroom. At a certain point, I accepted that I couldnt miss a second, and leaving the room for even a moment was totally out of the question.If you can see this at a cinema, and can handle three and a half hours without a toilet or snack break (no intermission!), then by all means, watch it on a big screen, because its beautiful and ultimately the best way to experience a film of this scope and spectacle. But itll be on Netflix soon, and perhaps some would prefer to watch it in the comfort of their own home, where snack/toilet breaks are possible.Whatever you do, make sure you ultimately watch it. Films like this dont come around too often, and this is such a perfect swan-song for this talented group that I doubt well see these legends together again.Its bittersweet, but if this is Scorseses, De Niros, Pacinos and Pescis farewell to the crime genre, then its an amazing note to go out on.',\n",
       " ', The last 5 minutes of the movie explain everything. 2 things:1- The photo of his daughter and Jimmy. These 2 persons are these ones that he loves the most. It reminds him how he lost them both. Frank killed his best friend and he lost his daughter after she understood he did it.2- The door half open at 1 minute before the end. Jimmy used to let the door of his bedroom open because he trusted Frank. Frank broke the trust and as a result he could never talk to his daughter again. This door represent the trust, and show that trust must never be broken. Trust is even more important than love because without trust there can be no real love.Great movie, great actors, congratulations Mr Scorsese.',\n",
       " ', I was able to attend the NYC premiere this afternoon. Now that I\\\\ve gotten over the shock of seeing so many celebrities, I able to happily to say that this movie, while being quite long, deserves to be remembered as one of Scorsese great films.The Irishman reminds me a bit of Tarantino recent hit Once Upon a Time... in Hollywood, both because it a period piece and also because you need to know a little history to understand the direction of the narrative. The movie, while following Frank Sheeran (Robert De Niro) as the titular character, revolves around Teamsters union boss James Riddle Hoffa (played with intense and hilarious fervor by Al Pacino). Fortunately Frank goes to great lengths to narrate the story for the audience and provides a healthy dose of context for those of us not from the Kennedy era. The main thing you need to know going in is that Jimmy Hoffa had mob ties, and that he vanished in 1975 and was presumed murdered by mob bosses for being \"uncooperative\".The movie unfolds over four acts, told over several decades by Frank Sheeran. In act one, Frank is introduced as a WWII veteran who is stuck driving food delivery trucks in and around Philadelphia. He has the bright idea to steal some of the steaks that he delivering, and sell them to local mobster Felix \"Skinny Razor\" DiTullio (Bobby Cannavale). Eventually his brazen willingness to break the law catches the eye of Italian mob boss Russell Bufalino (Joe Pesci), who happens to be a mobster on a national level. His calm demeanor is both comical yet terrifying. A soon to be classic line encompasses Bufalino perfectly: \"You might be demonstrating a failure to show appreciation.\" Under his mentorship, Frank becomes a ruthless action man for the italian mob and explains with rather entertaining dispassion how he does his job properly. In act two, Russell introduces Frank to Jimmy Hoffa (Al Pacino), the outspoken and fearless president of the National Teamsters Union. Their relationship grows and Hoffa becomes Frank second mentor. Together they use intimidation and bribery to gain influence until the election of John Kennedy, who subsequently appoints his brother Bobby Kennedy as Attorney General and immediately goes after Hoffa.The first two and a half hours are the most fun, and in particular the end of act three is some of the most tense and dramatic storytelling that I have had the pleasure of seeing in recent memory. At a dinner celebration for Frank (who eventually becomes a Teamster boss himself), tensions between Hoffa, Bufalino and the other mobsters reaches a breaking point, and the decision is made to make Hoffa disappear. But in a gut wrenching twist, Frank is the one tasked to do the job. In a beautiful display of cinematography over a thirty-minute buildup, Scorsese forces the viewer to the edge of their seats with the dread of what about to happen. Robert De Niro performance in these moments is master class; the inner conflict is all the more apparent thanks all of the time we spent watching Frank being raised by Bufalino and Hoffa in equal measure. I plan to watch this part of the film again, probably with a notepad.Getting away from the plot a bit, the movie is actually surprisingly funny. In one particular scene, someone insults an older Bufalino at a dinner reception. He and Frank exchange glances, and the frame suddenly cuts to a hotel bed covered in guns. Frank then narrates with excess detail and hilarious dispassion the ideal weapon for a public assassination. Moments like these are littered throughout the film and keep it from getting too bogged down in it violence. It impressive how quickly jokes fly, given the disproportionate amount of people getting shot point blank in the head. But anyone who has seen Scorsese Goodfellas or The Departed will feel right at home.The heart of the movie is definitely Robert De Niro, Al Pacino and Joe Pesci. De Niro was de-aged with apparently exorbitantly priced CGI, as he is supposed to be younger than both Pacino and Pesci. While it fairly obvious, I was never too distracted to not enjoy what was unfolding onscreen. Plus he kind of made a career of holding one scowling facial expression, so that probably was a little easier to edit. Al Pacino is a riot as Hoffa, and is certainly one of the most arrogant, over-the-top characters that Pacino has played in awhile. Pesci as Bufalino is chilling, and it fun to seem him as the boss in this gangster movie after being a junior-level mobster in Goodfellas so many years ago. The mentorship between De Niro character and both Pacino and Pesci is amazingly entertaining.The only thing keeping me from calling this movie perfect is it length. Three hours and (almost) thirty minutes is a very long time, and while occurring infrequently the movie does drag a bit. This is most apparent in the fourth act where Frank introspects during his final years, and attempts to achieve reconciliation for all the murders he committed. It doesn\\\\t really offer any closure or seem necessary to wrapping up the narrative.Ultimately that doesn\\\\t even come close to making me not recommend seeing The Irishman. There a reason Martin Scorsese will forever be known for his gangster movies. Combining comedy, violence, brotherhood and drama, he has created a formula that continues to work. The fact that he continues to make excellent movies at 76 years old blows my mind. Well done.',\n",
       " '']"
      ]
     },
     "execution_count": 92,
     "metadata": {},
     "output_type": "execute_result"
    }
   ],
   "source": [
    "movies['Reviews'][0]"
   ]
  },
  {
   "cell_type": "code",
   "execution_count": 102,
   "metadata": {},
   "outputs": [],
   "source": [
    "def format_reviews(reviews_string):\n",
    "    END_REVIEW_TOKEN = '$&&&&$'\n",
    "    BR_END_REVIEW_TOKEN = '$&&&&$\"'\n",
    "    reviews_list= list(reviews_string.replace(\"[\", \"\")\n",
    "                                     .replace(\"]\", \"\")\n",
    "                                     .replace(\"\\'\", \"\")\n",
    "                                     .replace(\"\\\\\", \"\")\n",
    "                                     .replace(\"\\\\t\", \"\")\n",
    "                                     .replace(\"\\\\s\", \"\")\n",
    "                                     .replace(\"\\\\m\", \"\")\n",
    "                                     .replace(\"'\", \"\")\n",
    "                                     .replace(BR_END_REVIEW_TOKEN , END_REVIEW_TOKEN)\n",
    "                                     .split(END_REVIEW_TOKEN))\n",
    "    del reviews_list[-1]\n",
    "    return reviews_list"
   ]
  },
  {
   "cell_type": "code",
   "execution_count": 103,
   "metadata": {},
   "outputs": [],
   "source": [
    "movies['Reviews'] = movies['Reviews'].apply(format_reviews)"
   ]
  },
  {
   "cell_type": "code",
   "execution_count": 104,
   "metadata": {},
   "outputs": [
    {
     "data": {
      "text/plain": [
       "3"
      ]
     },
     "execution_count": 104,
     "metadata": {},
     "output_type": "execute_result"
    }
   ],
   "source": [
    "len(movies['Reviews'][2])"
   ]
  },
  {
   "cell_type": "code",
   "execution_count": null,
   "metadata": {},
   "outputs": [],
   "source": []
  }
 ],
 "metadata": {
  "kernelspec": {
   "display_name": "Python 3",
   "language": "python",
   "name": "python3"
  },
  "language_info": {
   "codemirror_mode": {
    "name": "ipython",
    "version": 3
   },
   "file_extension": ".py",
   "mimetype": "text/x-python",
   "name": "python",
   "nbconvert_exporter": "python",
   "pygments_lexer": "ipython3",
   "version": "3.7.4"
  }
 },
 "nbformat": 4,
 "nbformat_minor": 2
}
