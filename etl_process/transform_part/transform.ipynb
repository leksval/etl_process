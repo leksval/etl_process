{
 "cells": [
  {
   "cell_type": "code",
   "execution_count": 1,
   "metadata": {},
   "outputs": [],
   "source": [
    "import pandas as pd\n",
    "import numpy as np"
   ]
  },
  {
   "cell_type": "code",
   "execution_count": 2,
   "metadata": {},
   "outputs": [],
   "source": [
    "INPUT_CSV_FILE_NAME = 'extracted_movies.csv'\n",
    "MOVIES_DETAILS_CSV_NAME = 'movies_details.csv'\n",
    "MOVIES_CAST_CSV_NAME = 'movies_cast.csv'\n",
    "MOVIES_REVIEWS_CSV_NAME = 'movies_reviews.csv'\n",
    "END_REVIEW_TOKEN = '$&&&&$'"
   ]
  },
  {
   "cell_type": "code",
   "execution_count": 3,
   "metadata": {},
   "outputs": [],
   "source": [
    "movies = pd.read_csv(INPUT_CSV_FILE_NAME)\n",
    "movies_details = movies[['Title', 'Year', 'Director', 'Movie summary']].copy()"
   ]
  },
  {
   "cell_type": "code",
   "execution_count": 4,
   "metadata": {},
   "outputs": [],
   "source": [
    "movies_details.loc[:,'Title'] = movies_details.loc[:,'Title'].str.strip()\n",
    "# oczyszczanie kolumny 'Title' z niepotrzebnych białych znaków"
   ]
  },
  {
   "cell_type": "code",
   "execution_count": 5,
   "metadata": {},
   "outputs": [],
   "source": [
    "movies_details.loc[:,'Year'] = movies_details.loc[:,'Year'].str.extract('(\\d+)').astype(int)\n",
    "# wyciągnięcie numeru z kolumny 'Year' i zmiana na int"
   ]
  },
  {
   "cell_type": "code",
   "execution_count": 6,
   "metadata": {},
   "outputs": [],
   "source": [
    "movies_details.loc[:,'Director'] = movies_details.loc[:,'Director'].str.replace(\"\\nDirector:\\n\", \"\").str.replace(\"\\nDirectors:\\n\", \"\")\n",
    "# wyciągnięcie z kolumny 'Title' imię i nazwisko reżysera"
   ]
  },
  {
   "cell_type": "code",
   "execution_count": 7,
   "metadata": {},
   "outputs": [
    {
     "data": {
      "text/html": [
       "<div>\n",
       "<style scoped>\n",
       "    .dataframe tbody tr th:only-of-type {\n",
       "        vertical-align: middle;\n",
       "    }\n",
       "\n",
       "    .dataframe tbody tr th {\n",
       "        vertical-align: top;\n",
       "    }\n",
       "\n",
       "    .dataframe thead th {\n",
       "        text-align: right;\n",
       "    }\n",
       "</style>\n",
       "<table border=\"1\" class=\"dataframe\">\n",
       "  <thead>\n",
       "    <tr style=\"text-align: right;\">\n",
       "      <th></th>\n",
       "      <th>Title</th>\n",
       "      <th>Year</th>\n",
       "      <th>Director</th>\n",
       "      <th>Movie summary</th>\n",
       "    </tr>\n",
       "  </thead>\n",
       "  <tbody>\n",
       "    <tr>\n",
       "      <td>0</td>\n",
       "      <td>The Irishman</td>\n",
       "      <td>2019</td>\n",
       "      <td>Martin Scorsese</td>\n",
       "      <td>A mob hitman recalls his possible involvement ...</td>\n",
       "    </tr>\n",
       "    <tr>\n",
       "      <td>1</td>\n",
       "      <td>Frozen II</td>\n",
       "      <td>2019</td>\n",
       "      <td>Chris Buck, Jennifer Lee</td>\n",
       "      <td>Anna, Elsa, Kristoff, Olaf and Sven leave Aren...</td>\n",
       "    </tr>\n",
       "    <tr>\n",
       "      <td>2</td>\n",
       "      <td>Knives Out</td>\n",
       "      <td>2019</td>\n",
       "      <td>Rian Johnson</td>\n",
       "      <td>A detective investigates the death of a patria...</td>\n",
       "    </tr>\n",
       "  </tbody>\n",
       "</table>\n",
       "</div>"
      ],
      "text/plain": [
       "          Title  Year                   Director  \\\n",
       "0  The Irishman  2019           Martin Scorsese    \n",
       "1     Frozen II  2019  Chris Buck, Jennifer Lee    \n",
       "2    Knives Out  2019              Rian Johnson    \n",
       "\n",
       "                                       Movie summary  \n",
       "0  A mob hitman recalls his possible involvement ...  \n",
       "1  Anna, Elsa, Kristoff, Olaf and Sven leave Aren...  \n",
       "2  A detective investigates the death of a patria...  "
      ]
     },
     "execution_count": 7,
     "metadata": {},
     "output_type": "execute_result"
    }
   ],
   "source": [
    "movies_details"
   ]
  },
  {
   "cell_type": "code",
   "execution_count": 8,
   "metadata": {
    "scrolled": true
   },
   "outputs": [],
   "source": [
    "movies_details.to_csv(MOVIES_DETAILS_CSV_NAME, index=False)"
   ]
  },
  {
   "cell_type": "code",
   "execution_count": 9,
   "metadata": {},
   "outputs": [],
   "source": [
    "#####################################################################################"
   ]
  },
  {
   "cell_type": "code",
   "execution_count": 10,
   "metadata": {},
   "outputs": [],
   "source": [
    "movies_reviews = movies.filter(['Title', 'Reviews'], axis=1)"
   ]
  },
  {
   "cell_type": "code",
   "execution_count": 11,
   "metadata": {},
   "outputs": [],
   "source": [
    "def format_reviews(reviews_string):\n",
    "    '''Formating reviews string and separating them to list elements.'''\n",
    "    END_REVIEW_TOKEN = '$&&&&$'\n",
    "    reviews_list = list(reviews_string.replace(\"[\", \"\")\n",
    "                                      .replace(\"]\", \"\")\n",
    "                                      .replace(\"\\'\", \"\")\n",
    "                                      .replace(\"\\\\\", \"\")\n",
    "                                      .replace(\"\\\\t\", \"\")\n",
    "                                      .replace(\"\\\\s\", \"\")\n",
    "                                      .replace(\"\\\\m\", \"\")\n",
    "                                      .replace(', \"', \" \")\n",
    "                                      .strip()\n",
    "                                      .replace(END_REVIEW_TOKEN + '\"', END_REVIEW_TOKEN)\n",
    "                                      .split(END_REVIEW_TOKEN))\n",
    "     \n",
    "    del reviews_list[-1]\n",
    "    return reviews_list"
   ]
  },
  {
   "cell_type": "code",
   "execution_count": 12,
   "metadata": {},
   "outputs": [],
   "source": [
    "movies_reviews.loc[:,'Reviews'] = movies_reviews.loc[:,'Reviews'].apply(format_reviews)"
   ]
  },
  {
   "cell_type": "code",
   "execution_count": 15,
   "metadata": {},
   "outputs": [],
   "source": [
    "def create_row_for_each_list_element(df, list_column_to_split):\n",
    "    '''Creating row in dataframe for each list element.'''\n",
    "\n",
    "    extended_df = pd.DataFrame({\n",
    "                        col:np.repeat(df[col].values, df[list_column_to_split].str.len())\n",
    "                        for col in df.columns.drop(list_column_to_split)\n",
    "                        }).assign(**{list_column_to_split:np.concatenate(df[list_column_to_split].values)})[df.columns]\n",
    "    return extended_df"
   ]
  },
  {
   "cell_type": "code",
   "execution_count": 16,
   "metadata": {},
   "outputs": [],
   "source": [
    "movies_reviews = create_row_for_each_list_element(movies_reviews, 'Reviews')"
   ]
  },
  {
   "cell_type": "code",
   "execution_count": 17,
   "metadata": {},
   "outputs": [],
   "source": [
    "movies_reviews.to_csv(MOVIES_REVIEWS_CSV_NAME, index=False)"
   ]
  },
  {
   "cell_type": "code",
   "execution_count": 18,
   "metadata": {},
   "outputs": [],
   "source": [
    "###########################################################################################"
   ]
  },
  {
   "cell_type": "code",
   "execution_count": null,
   "metadata": {},
   "outputs": [],
   "source": []
  },
  {
   "cell_type": "markdown",
   "metadata": {},
   "source": [
    "def from_string_to_dict_on_cast(cast_string):\n",
    "    '''Modifing cast string and saving results to dictionary'''\n",
    "    #przetworzenie stringu na listę aktorzy i role w jednej tabeli\n",
    "    #aktorzy nieparzyści, role parzyste\n",
    "    cast_string = list(cast_string.replace(\"\\n\", \"\")\n",
    "                              .strip()\n",
    "                              .replace(\"\\\\n\", \"\")\n",
    "                              .replace(\"'\", \"\").replace(\"[  \", \"\")\n",
    "                              .replace(\"]\", \"\")\n",
    "                              .replace(\"               ...          \", \",   \")\n",
    "                              .split(\",   \"))\n",
    "    #przekonwertowanie listy na słownik aktor:rola\n",
    "    cast_dict = dict(zip(cast_string[::2], cast_string[1::2]))\n",
    "    return cast_dict\n"
   ]
  },
  {
   "cell_type": "code",
   "execution_count": null,
   "metadata": {},
   "outputs": [],
   "source": []
  },
  {
   "cell_type": "code",
   "execution_count": 19,
   "metadata": {},
   "outputs": [],
   "source": [
    "movies_cast = movies.filter(['Title', 'Cast'], axis=1)"
   ]
  },
  {
   "cell_type": "code",
   "execution_count": 20,
   "metadata": {},
   "outputs": [],
   "source": [
    "def from_string_to_list_on_cast(cast_string):\n",
    "    '''Modifing cast string and saving results to dictionary'''\n",
    "    #przetworzenie stringu na listę aktorzy i role w jednej tabeli\n",
    "    #aktorzy nieparzyści, role parzyste\n",
    "    cast_string = list(cast_string.replace(\"\\n\", \"\")\n",
    "                              .strip()\n",
    "                              .replace(\"\\\\n\", \"\")\n",
    "                              .replace(\"'\", \"\").replace(\"[  \", \"\")\n",
    "                              .replace(\"]\", \"\")\n",
    "                              .replace(\"               ...          \", \": \")\n",
    "                              .split(\",   \"))\n",
    "    #przekonwertowanie listy na słownik aktor:rola\n",
    "    cast_dict = cast_string[::2] + cast_string[1::2]\n",
    "    return cast_dict\n"
   ]
  },
  {
   "cell_type": "code",
   "execution_count": 21,
   "metadata": {},
   "outputs": [],
   "source": [
    "movies_cast.loc[:,'Cast'] = movies_cast.loc[:,'Cast'].apply(from_string_to_list_on_cast)"
   ]
  },
  {
   "cell_type": "code",
   "execution_count": 22,
   "metadata": {},
   "outputs": [
    {
     "data": {
      "text/html": [
       "<div>\n",
       "<style scoped>\n",
       "    .dataframe tbody tr th:only-of-type {\n",
       "        vertical-align: middle;\n",
       "    }\n",
       "\n",
       "    .dataframe tbody tr th {\n",
       "        vertical-align: top;\n",
       "    }\n",
       "\n",
       "    .dataframe thead th {\n",
       "        text-align: right;\n",
       "    }\n",
       "</style>\n",
       "<table border=\"1\" class=\"dataframe\">\n",
       "  <thead>\n",
       "    <tr style=\"text-align: right;\">\n",
       "      <th></th>\n",
       "      <th>Title</th>\n",
       "      <th>Cast</th>\n",
       "    </tr>\n",
       "  </thead>\n",
       "  <tbody>\n",
       "    <tr>\n",
       "      <td>0</td>\n",
       "      <td>The Irishman</td>\n",
       "      <td>[Robert De Niro: Frank Sheeran, Joe Pesci: Rus...</td>\n",
       "    </tr>\n",
       "    <tr>\n",
       "      <td>1</td>\n",
       "      <td>Frozen II</td>\n",
       "      <td>[Kristen Bell: Anna       (voice)             ...</td>\n",
       "    </tr>\n",
       "    <tr>\n",
       "      <td>2</td>\n",
       "      <td>Knives Out</td>\n",
       "      <td>[Daniel Craig: Benoit Blanc, Ana de Armas: Mar...</td>\n",
       "    </tr>\n",
       "  </tbody>\n",
       "</table>\n",
       "</div>"
      ],
      "text/plain": [
       "           Title                                               Cast\n",
       "0  The Irishman   [Robert De Niro: Frank Sheeran, Joe Pesci: Rus...\n",
       "1     Frozen II   [Kristen Bell: Anna       (voice)             ...\n",
       "2    Knives Out   [Daniel Craig: Benoit Blanc, Ana de Armas: Mar..."
      ]
     },
     "execution_count": 22,
     "metadata": {},
     "output_type": "execute_result"
    }
   ],
   "source": [
    "movies_cast"
   ]
  },
  {
   "cell_type": "code",
   "execution_count": 23,
   "metadata": {},
   "outputs": [],
   "source": [
    "movies_cast = create_row_for_each_list_element(movies_cast, 'Cast')"
   ]
  },
  {
   "cell_type": "code",
   "execution_count": 26,
   "metadata": {},
   "outputs": [],
   "source": [
    "movies_cast.to_csv(MOVIES_CAST_CSV_NAME, index=False)"
   ]
  },
  {
   "cell_type": "code",
   "execution_count": null,
   "metadata": {},
   "outputs": [],
   "source": []
  },
  {
   "cell_type": "code",
   "execution_count": null,
   "metadata": {},
   "outputs": [],
   "source": []
  },
  {
   "cell_type": "code",
   "execution_count": null,
   "metadata": {},
   "outputs": [],
   "source": []
  },
  {
   "cell_type": "code",
   "execution_count": null,
   "metadata": {},
   "outputs": [],
   "source": []
  }
 ],
 "metadata": {
  "kernelspec": {
   "display_name": "Python 3",
   "language": "python",
   "name": "python3"
  },
  "language_info": {
   "codemirror_mode": {
    "name": "ipython",
    "version": 3
   },
   "file_extension": ".py",
   "mimetype": "text/x-python",
   "name": "python",
   "nbconvert_exporter": "python",
   "pygments_lexer": "ipython3",
   "version": "3.7.4"
  }
 },
 "nbformat": 4,
 "nbformat_minor": 2
}
