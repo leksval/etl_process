{
 "cells": [
  {
   "cell_type": "code",
   "execution_count": 2,
   "metadata": {},
   "outputs": [],
   "source": [
    "import pandas as pd"
   ]
  },
  {
   "cell_type": "code",
   "execution_count": 263,
   "metadata": {},
   "outputs": [],
   "source": [
    "CSV_FILE_NAME = 'data.csv'"
   ]
  },
  {
   "cell_type": "code",
   "execution_count": 264,
   "metadata": {},
   "outputs": [],
   "source": [
    "movies = pd.read_csv(CSV_FILE_NAME)"
   ]
  },
  {
   "cell_type": "code",
   "execution_count": 265,
   "metadata": {},
   "outputs": [],
   "source": [
    "movies.loc[:,'Title'] = movies.loc[:,'Title'].str.strip()\n",
    "# oczyszczanie kolumny 'Title' z niepotrzebnych białych znaków"
   ]
  },
  {
   "cell_type": "code",
   "execution_count": 266,
   "metadata": {},
   "outputs": [],
   "source": [
    "movies['Year'] = movies['Year'].str.extract('(\\d+)').astype(int)\n",
    "# wyciągnięcie numeru z kolumny 'Year' i zmiana na int"
   ]
  },
  {
   "cell_type": "code",
   "execution_count": 267,
   "metadata": {},
   "outputs": [],
   "source": [
    "movies['Director'] = movies['Director'].str.replace(\"\\nDirector:\\n\", \"\")\n",
    "# wyciągnięcie z kolumny 'Title' imię i nazwisko reżysera"
   ]
  },
  {
   "cell_type": "code",
   "execution_count": 273,
   "metadata": {},
   "outputs": [],
   "source": [
    "def from_string_to_dict_on_cast(cast_string):\n",
    "    #przetworzenie stringu na listę aktorzy i role w jednej tabeli\n",
    "    #aktorzy nieparzyści, role parzyste\n",
    "    cast_string = list(cast_string.replace(\"\\n\", \"\")\n",
    "                              .strip()\n",
    "                              .replace(\"\\\\n\", \"\")\n",
    "                              .replace(\"'\", \"\").replace(\"[  \", \"\")\n",
    "                              .replace(\"]\", \"\")\n",
    "                              .replace(\"               ...          \", \",   \")\n",
    "                              .split(\",   \"))\n",
    "    #przekonwertowanie listy na słownik aktor:rola\n",
    "    cast_dict = dict(zip(cast_string[::2], cast_string[1::2]))\n",
    "    return cast_dict"
   ]
  },
  {
   "cell_type": "code",
   "execution_count": 275,
   "metadata": {
    "collapsed": true
   },
   "outputs": [
    {
     "data": {
      "text/html": [
       "<div>\n",
       "<style scoped>\n",
       "    .dataframe tbody tr th:only-of-type {\n",
       "        vertical-align: middle;\n",
       "    }\n",
       "\n",
       "    .dataframe tbody tr th {\n",
       "        vertical-align: top;\n",
       "    }\n",
       "\n",
       "    .dataframe thead th {\n",
       "        text-align: right;\n",
       "    }\n",
       "</style>\n",
       "<table border=\"1\" class=\"dataframe\">\n",
       "  <thead>\n",
       "    <tr style=\"text-align: right;\">\n",
       "      <th></th>\n",
       "      <th>Title</th>\n",
       "      <th>Year</th>\n",
       "      <th>Director</th>\n",
       "      <th>Cast</th>\n",
       "      <th>Movie summary</th>\n",
       "      <th>Reviews</th>\n",
       "    </tr>\n",
       "  </thead>\n",
       "  <tbody>\n",
       "    <tr>\n",
       "      <th>0</th>\n",
       "      <td>Ford v Ferrari</td>\n",
       "      <td>2019</td>\n",
       "      <td>James Mangold</td>\n",
       "      <td>{'Matt Damon': 'Carroll Shelby', 'Christian Ba...</td>\n",
       "      <td>American car designer Carroll Shelby and drive...</td>\n",
       "      <td>['This is what cinema is supposed to be! Amazi...</td>\n",
       "    </tr>\n",
       "    <tr>\n",
       "      <th>1</th>\n",
       "      <td>Charlie's Angels</td>\n",
       "      <td>2019</td>\n",
       "      <td>Elizabeth Banks</td>\n",
       "      <td>{'Kristen Stewart': 'Sabina Wilson', 'Naomi Sc...</td>\n",
       "      <td>When a young systems engineer blows the whistl...</td>\n",
       "      <td>['Hated it. Felt like I was being spoon fed wo...</td>\n",
       "    </tr>\n",
       "    <tr>\n",
       "      <th>2</th>\n",
       "      <td>Joker</td>\n",
       "      <td>2019</td>\n",
       "      <td>Todd Phillips</td>\n",
       "      <td>{'Joaquin Phoenix': 'Arthur Fleck', 'Robert De...</td>\n",
       "      <td>In Gotham City, mentally-troubled comedian Art...</td>\n",
       "      <td>[\"I was a person that saw all the hype and cla...</td>\n",
       "    </tr>\n",
       "  </tbody>\n",
       "</table>\n",
       "</div>"
      ],
      "text/plain": [
       "              Title  Year          Director  \\\n",
       "0    Ford v Ferrari  2019    James Mangold    \n",
       "1  Charlie's Angels  2019  Elizabeth Banks    \n",
       "2             Joker  2019    Todd Phillips    \n",
       "\n",
       "                                                Cast  \\\n",
       "0  {'Matt Damon': 'Carroll Shelby', 'Christian Ba...   \n",
       "1  {'Kristen Stewart': 'Sabina Wilson', 'Naomi Sc...   \n",
       "2  {'Joaquin Phoenix': 'Arthur Fleck', 'Robert De...   \n",
       "\n",
       "                                       Movie summary  \\\n",
       "0  American car designer Carroll Shelby and drive...   \n",
       "1  When a young systems engineer blows the whistl...   \n",
       "2  In Gotham City, mentally-troubled comedian Art...   \n",
       "\n",
       "                                             Reviews  \n",
       "0  ['This is what cinema is supposed to be! Amazi...  \n",
       "1  ['Hated it. Felt like I was being spoon fed wo...  \n",
       "2  [\"I was a person that saw all the hype and cla...  "
      ]
     },
     "execution_count": 275,
     "metadata": {},
     "output_type": "execute_result"
    }
   ],
   "source": [
    "movies['Cast'] = movies['Cast'].apply(from_string_to_dict_on_cast)"
   ]
  },
  {
   "cell_type": "code",
   "execution_count": 284,
   "metadata": {},
   "outputs": [
    {
     "data": {
      "text/plain": [
       "0    ['This is what cinema is supposed to be! Amazi...\n",
       "1    ['Hated it. Felt like I was being spoon fed wo...\n",
       "2    [\"I was a person that saw all the hype and cla...\n",
       "Name: Reviews, dtype: object"
      ]
     },
     "execution_count": 284,
     "metadata": {},
     "output_type": "execute_result"
    }
   ],
   "source": [
    "movies['Reviews']"
   ]
  },
  {
   "cell_type": "code",
   "execution_count": null,
   "metadata": {},
   "outputs": [],
   "source": [
    "#TODO: Poprawić wydobywanie recenzji i odpowiednio je przeformatować"
   ]
  }
 ],
 "metadata": {
  "kernelspec": {
   "display_name": "Python 3",
   "language": "python",
   "name": "python3"
  },
  "language_info": {
   "codemirror_mode": {
    "name": "ipython",
    "version": 3
   },
   "file_extension": ".py",
   "mimetype": "text/x-python",
   "name": "python",
   "nbconvert_exporter": "python",
   "pygments_lexer": "ipython3",
   "version": "3.7.5"
  }
 },
 "nbformat": 4,
 "nbformat_minor": 2
}
